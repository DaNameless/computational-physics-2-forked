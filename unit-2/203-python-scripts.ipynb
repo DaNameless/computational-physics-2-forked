{
 "cells": [
  {
   "cell_type": "markdown",
   "id": "b67b8d61",
   "metadata": {},
   "source": [
    "# Python Scripts\n",
    "\n",
    "## Python Scopes:\n",
    "\n",
    "Scopes are environments within which variables are defined.\n",
    "\n",
    "- A variable is only available from inside the region where it is created.\n",
    "\n",
    "We have two types:\n",
    "\n",
    "## In Python functions:\n",
    "\n",
    "### 1. Local scope:\n",
    "\n",
    "A variable created inside a function belongs to the local scope of that function, and can only be used inside that function.\n"
   ]
  },
  {
   "cell_type": "code",
   "execution_count": 3,
   "id": "fe7f5f2f",
   "metadata": {},
   "outputs": [],
   "source": [
    "# Example\n",
    "\n",
    "def function_example():\n",
    "    # a is defined as a local variable/scope\n",
    "    a = \"computational physics II\"\n",
    "    print(a)"
   ]
  },
  {
   "cell_type": "code",
   "execution_count": 5,
   "id": "5084f14c",
   "metadata": {},
   "outputs": [
    {
     "name": "stdout",
     "output_type": "stream",
     "text": [
      "computational physics II\n"
     ]
    }
   ],
   "source": [
    "# Call the funtion\n",
    "\n",
    "function_example()\n",
    "\n",
    "#print(a) # produces an error"
   ]
  },
  {
   "cell_type": "code",
   "execution_count": 6,
   "id": "083dd690",
   "metadata": {},
   "outputs": [],
   "source": [
    "# 2nd Example\n",
    "\n",
    "def function_example():\n",
    "    # a is defined as a local variable/scope\n",
    "    a = \"computational physics II\"\n",
    "    def function_example2():\n",
    "        print(a)\n",
    "    function_example2()"
   ]
  },
  {
   "cell_type": "code",
   "execution_count": 7,
   "id": "9300855f",
   "metadata": {},
   "outputs": [
    {
     "name": "stdout",
     "output_type": "stream",
     "text": [
      "computational physics II\n"
     ]
    }
   ],
   "source": [
    "function_example()"
   ]
  },
  {
   "cell_type": "code",
   "execution_count": 12,
   "id": "bd080164",
   "metadata": {},
   "outputs": [],
   "source": [
    "# 3rd Example\n",
    "\n",
    "def function_example():\n",
    "    def function_example2():\n",
    "        # a is defined as a local variable/scope\n",
    "        a = \"computational physics II\"\n",
    "        print(a)\n",
    "    function_example2()"
   ]
  },
  {
   "cell_type": "code",
   "execution_count": 13,
   "id": "a6f0b519",
   "metadata": {},
   "outputs": [
    {
     "name": "stdout",
     "output_type": "stream",
     "text": [
      "computational physics II\n"
     ]
    }
   ],
   "source": [
    "function_example()"
   ]
  },
  {
   "cell_type": "code",
   "execution_count": 7,
   "id": "4edb19e1",
   "metadata": {},
   "outputs": [],
   "source": [
    "#print(a)"
   ]
  },
  {
   "cell_type": "markdown",
   "id": "84d90400",
   "metadata": {},
   "source": [
    "### 2. Global scope:\n",
    "\n",
    "A variable created in the main body of the Python code is a global variable and belongs to the global scope.\n",
    "\n",
    "Global variables are available from within any scope, global and local."
   ]
  },
  {
   "cell_type": "code",
   "execution_count": 14,
   "id": "23311be4",
   "metadata": {},
   "outputs": [],
   "source": [
    "# a is defined as a global variable/scope\n",
    "a = \"computational physics II\""
   ]
  },
  {
   "cell_type": "code",
   "execution_count": 16,
   "id": "16c2f6b5",
   "metadata": {},
   "outputs": [],
   "source": [
    "# 4th Example\n",
    "\n",
    "def function_example():\n",
    "    def function_example2():\n",
    "        print(a)\n",
    "    function_example2()"
   ]
  },
  {
   "cell_type": "code",
   "execution_count": 17,
   "id": "e3ad0528",
   "metadata": {},
   "outputs": [
    {
     "name": "stdout",
     "output_type": "stream",
     "text": [
      "computational physics II\n"
     ]
    }
   ],
   "source": [
    "function_example()"
   ]
  },
  {
   "cell_type": "code",
   "execution_count": 18,
   "id": "ac6d7174",
   "metadata": {},
   "outputs": [
    {
     "name": "stdout",
     "output_type": "stream",
     "text": [
      "computational physics II\n"
     ]
    }
   ],
   "source": [
    "print(a)"
   ]
  },
  {
   "cell_type": "code",
   "execution_count": 19,
   "id": "a49fe63b-be35-41d7-90b5-1bb7180f6ade",
   "metadata": {},
   "outputs": [
    {
     "name": "stdout",
     "output_type": "stream",
     "text": [
      "Variable           Type        Data/Info\n",
      "----------------------------------------\n",
      "a                  str         computational physics II\n",
      "function_example   function    <function function_example at 0x108d61550>\n"
     ]
    }
   ],
   "source": [
    "%whos"
   ]
  },
  {
   "cell_type": "code",
   "execution_count": 20,
   "id": "a3016856",
   "metadata": {},
   "outputs": [],
   "source": [
    "# Free the memory/remove the variable\n",
    "del(a)"
   ]
  },
  {
   "cell_type": "code",
   "execution_count": 22,
   "id": "edde5fe8",
   "metadata": {},
   "outputs": [],
   "source": [
    "#print(a) # prints an error"
   ]
  },
  {
   "cell_type": "markdown",
   "id": "be040fd9",
   "metadata": {},
   "source": [
    "#### Hierarchy:"
   ]
  },
  {
   "cell_type": "code",
   "execution_count": 23,
   "id": "ed040b8f",
   "metadata": {},
   "outputs": [],
   "source": [
    "# Global vriable\n",
    "\n",
    "a = \"physics\"\n",
    "\n",
    "def function_example3():\n",
    "    a = \"biology\"\n",
    "    print(a)"
   ]
  },
  {
   "cell_type": "code",
   "execution_count": 24,
   "id": "fefaef77-d380-4666-8d02-dfa14ebd392c",
   "metadata": {},
   "outputs": [
    {
     "name": "stdout",
     "output_type": "stream",
     "text": [
      "physics\n"
     ]
    }
   ],
   "source": [
    "print(a)"
   ]
  },
  {
   "cell_type": "code",
   "execution_count": 25,
   "id": "4d399e37",
   "metadata": {},
   "outputs": [
    {
     "name": "stdout",
     "output_type": "stream",
     "text": [
      "biology\n"
     ]
    }
   ],
   "source": [
    "function_example3()"
   ]
  },
  {
   "cell_type": "code",
   "execution_count": 26,
   "id": "281a075a",
   "metadata": {},
   "outputs": [
    {
     "name": "stdout",
     "output_type": "stream",
     "text": [
      "physics\n"
     ]
    }
   ],
   "source": [
    "print(a)"
   ]
  },
  {
   "cell_type": "markdown",
   "id": "2c717781",
   "metadata": {},
   "source": [
    "### Creating global variable from a local scope:\n",
    "\n",
    "\n",
    "We use **global** (local -> global)"
   ]
  },
  {
   "cell_type": "code",
   "execution_count": 27,
   "id": "f19988f1",
   "metadata": {},
   "outputs": [],
   "source": [
    "# Example\n",
    "\n",
    "a = \"physics\"\n",
    "\n",
    "def function_example4():\n",
    "    # We use the keyword global\n",
    "    \n",
    "    global a\n",
    "    a = \"biology\"\n",
    "    print(a)\n",
    "    "
   ]
  },
  {
   "cell_type": "code",
   "execution_count": 28,
   "id": "5e0a2e56",
   "metadata": {},
   "outputs": [
    {
     "name": "stdout",
     "output_type": "stream",
     "text": [
      "physics\n"
     ]
    }
   ],
   "source": [
    "# Print the global variable \n",
    "print(a)"
   ]
  },
  {
   "cell_type": "code",
   "execution_count": 29,
   "id": "f150dfb6",
   "metadata": {},
   "outputs": [
    {
     "name": "stdout",
     "output_type": "stream",
     "text": [
      "biology\n"
     ]
    }
   ],
   "source": [
    "# Print function output\n",
    "function_example4()"
   ]
  },
  {
   "cell_type": "code",
   "execution_count": 30,
   "id": "d4420cff",
   "metadata": {},
   "outputs": [
    {
     "name": "stdout",
     "output_type": "stream",
     "text": [
      "biology\n"
     ]
    }
   ],
   "source": [
    "# Print the global variable \n",
    "print(a)"
   ]
  },
  {
   "cell_type": "markdown",
   "id": "475ce268",
   "metadata": {},
   "source": [
    "### What is stored in memory?"
   ]
  },
  {
   "cell_type": "code",
   "execution_count": 31,
   "id": "cc0d56ae",
   "metadata": {},
   "outputs": [
    {
     "data": {
      "text/plain": [
       "{'__name__': '__main__',\n",
       " '__doc__': 'Automatically created module for IPython interactive environment',\n",
       " '__package__': None,\n",
       " '__loader__': None,\n",
       " '__spec__': None,\n",
       " '__builtin__': <module 'builtins' (built-in)>,\n",
       " '__builtins__': <module 'builtins' (built-in)>,\n",
       " '_ih': ['',\n",
       "  '# Example\\n\\ndef function_example():\\n    # a is defined as a local variable/scope\\n    a = \"computational physics II\"\\n    #print(a)',\n",
       "  '# Call the funtion\\n\\nfunction_example()\\n\\nprint(a) # produces an error',\n",
       "  '# Example\\n\\ndef function_example():\\n    # a is defined as a local variable/scope\\n    a = \"computational physics II\"\\n    print(a)',\n",
       "  '# Call the funtion\\n\\nfunction_example()\\n\\nprint(a) # produces an error',\n",
       "  '# Call the funtion\\n\\nfunction_example()\\n\\n#print(a) # produces an error',\n",
       "  '# 2nd Example\\n\\ndef function_example():\\n    # a is defined as a local variable/scope\\n    a = \"computational physics II\"\\n    def function_example2():\\n        print(a)\\n    function_example2()',\n",
       "  'function_example()',\n",
       "  '# 3rd Example\\n\\ndef function_example():\\n    def function_example2():\\n        # a is defined as a local variable/scope\\n        a = \"computational physics II\"\\n        print(a)\\n    function_example2()',\n",
       "  'function_example()',\n",
       "  '# 3rd Example\\n\\ndef function_example():\\n    def function_example2():\\n        # a is defined as a local variable/scope\\n        a = \"computational physics II\"\\n    print(a)\\n    function_example2()',\n",
       "  'function_example()',\n",
       "  '# 3rd Example\\n\\ndef function_example():\\n    def function_example2():\\n        # a is defined as a local variable/scope\\n        a = \"computational physics II\"\\n        print(a)\\n    function_example2()',\n",
       "  'function_example()',\n",
       "  '# a is defined as a global variable/scope\\na = \"computational physics II\"',\n",
       "  '# 4th Example\\n\\ndef function_example():\\n    def function_example2():\\n        print(a)\\n    function_example2()',\n",
       "  '# 4th Example\\n\\ndef function_example():\\n    def function_example2():\\n        print(a)\\n    function_example2()',\n",
       "  'function_example()',\n",
       "  'print(a)',\n",
       "  \"get_ipython().run_line_magic('whos', '')\",\n",
       "  '# Free the memory/remove the variable\\ndel(a)',\n",
       "  'print(a) # prints an error',\n",
       "  '#print(a) # prints an error',\n",
       "  '# Global vriable\\n\\na = \"physics\"\\n\\ndef function_example3():\\n    a = \"biology\"\\n    print(a)',\n",
       "  'print(a)',\n",
       "  'function_example3()',\n",
       "  'print(a)',\n",
       "  '# Example\\n\\na = \"physics\"\\n\\ndef function_example4():\\n    # We use the keyword global\\n    \\n    global a\\n    a = \"biology\"\\n    print(a)\\n    ',\n",
       "  '# Print the global variable \\nprint(a)',\n",
       "  '# Print function output\\nfunction_example4()',\n",
       "  '# Print the global variable \\nprint(a)',\n",
       "  '# View all the variables, methods that are being used in memory\\nglobals()'],\n",
       " '_oh': {},\n",
       " '_dh': [PosixPath('/Users/wbandabarragan/Library/CloudStorage/Dropbox/GitHub_Repos/computational-physics-2/unit-2')],\n",
       " 'In': ['',\n",
       "  '# Example\\n\\ndef function_example():\\n    # a is defined as a local variable/scope\\n    a = \"computational physics II\"\\n    #print(a)',\n",
       "  '# Call the funtion\\n\\nfunction_example()\\n\\nprint(a) # produces an error',\n",
       "  '# Example\\n\\ndef function_example():\\n    # a is defined as a local variable/scope\\n    a = \"computational physics II\"\\n    print(a)',\n",
       "  '# Call the funtion\\n\\nfunction_example()\\n\\nprint(a) # produces an error',\n",
       "  '# Call the funtion\\n\\nfunction_example()\\n\\n#print(a) # produces an error',\n",
       "  '# 2nd Example\\n\\ndef function_example():\\n    # a is defined as a local variable/scope\\n    a = \"computational physics II\"\\n    def function_example2():\\n        print(a)\\n    function_example2()',\n",
       "  'function_example()',\n",
       "  '# 3rd Example\\n\\ndef function_example():\\n    def function_example2():\\n        # a is defined as a local variable/scope\\n        a = \"computational physics II\"\\n        print(a)\\n    function_example2()',\n",
       "  'function_example()',\n",
       "  '# 3rd Example\\n\\ndef function_example():\\n    def function_example2():\\n        # a is defined as a local variable/scope\\n        a = \"computational physics II\"\\n    print(a)\\n    function_example2()',\n",
       "  'function_example()',\n",
       "  '# 3rd Example\\n\\ndef function_example():\\n    def function_example2():\\n        # a is defined as a local variable/scope\\n        a = \"computational physics II\"\\n        print(a)\\n    function_example2()',\n",
       "  'function_example()',\n",
       "  '# a is defined as a global variable/scope\\na = \"computational physics II\"',\n",
       "  '# 4th Example\\n\\ndef function_example():\\n    def function_example2():\\n        print(a)\\n    function_example2()',\n",
       "  '# 4th Example\\n\\ndef function_example():\\n    def function_example2():\\n        print(a)\\n    function_example2()',\n",
       "  'function_example()',\n",
       "  'print(a)',\n",
       "  \"get_ipython().run_line_magic('whos', '')\",\n",
       "  '# Free the memory/remove the variable\\ndel(a)',\n",
       "  'print(a) # prints an error',\n",
       "  '#print(a) # prints an error',\n",
       "  '# Global vriable\\n\\na = \"physics\"\\n\\ndef function_example3():\\n    a = \"biology\"\\n    print(a)',\n",
       "  'print(a)',\n",
       "  'function_example3()',\n",
       "  'print(a)',\n",
       "  '# Example\\n\\na = \"physics\"\\n\\ndef function_example4():\\n    # We use the keyword global\\n    \\n    global a\\n    a = \"biology\"\\n    print(a)\\n    ',\n",
       "  '# Print the global variable \\nprint(a)',\n",
       "  '# Print function output\\nfunction_example4()',\n",
       "  '# Print the global variable \\nprint(a)',\n",
       "  '# View all the variables, methods that are being used in memory\\nglobals()'],\n",
       " 'Out': {},\n",
       " 'get_ipython': <bound method InteractiveShell.get_ipython of <ipykernel.zmqshell.ZMQInteractiveShell object at 0x10516e8b0>>,\n",
       " 'exit': <IPython.core.autocall.ZMQExitAutocall at 0x105183520>,\n",
       " 'quit': <IPython.core.autocall.ZMQExitAutocall at 0x105183520>,\n",
       " 'open': <function io.open(file, mode='r', buffering=-1, encoding=None, errors=None, newline=None, closefd=True, opener=None)>,\n",
       " '_': '',\n",
       " '__': '',\n",
       " '___': '',\n",
       " '__session__': '/Users/wbandabarragan/Library/CloudStorage/Dropbox/GitHub_Repos/computational-physics-2/unit-2/203-python-scripts.ipynb',\n",
       " '_i': '# Print the global variable \\nprint(a)',\n",
       " '_ii': '# Print function output\\nfunction_example4()',\n",
       " '_iii': '# Print the global variable \\nprint(a)',\n",
       " '_i1': '# Example\\n\\ndef function_example():\\n    # a is defined as a local variable/scope\\n    a = \"computational physics II\"\\n    #print(a)',\n",
       " 'function_example': <function __main__.function_example()>,\n",
       " '_i2': '# Call the funtion\\n\\nfunction_example()\\n\\nprint(a) # produces an error',\n",
       " '_i3': '# Example\\n\\ndef function_example():\\n    # a is defined as a local variable/scope\\n    a = \"computational physics II\"\\n    print(a)',\n",
       " '_i4': '# Call the funtion\\n\\nfunction_example()\\n\\nprint(a) # produces an error',\n",
       " '_i5': '# Call the funtion\\n\\nfunction_example()\\n\\n#print(a) # produces an error',\n",
       " '_i6': '# 2nd Example\\n\\ndef function_example():\\n    # a is defined as a local variable/scope\\n    a = \"computational physics II\"\\n    def function_example2():\\n        print(a)\\n    function_example2()',\n",
       " '_i7': 'function_example()',\n",
       " '_i8': '# 3rd Example\\n\\ndef function_example():\\n    def function_example2():\\n        # a is defined as a local variable/scope\\n        a = \"computational physics II\"\\n        print(a)\\n    function_example2()',\n",
       " '_i9': 'function_example()',\n",
       " '_i10': '# 3rd Example\\n\\ndef function_example():\\n    def function_example2():\\n        # a is defined as a local variable/scope\\n        a = \"computational physics II\"\\n    print(a)\\n    function_example2()',\n",
       " '_i11': 'function_example()',\n",
       " '_i12': '# 3rd Example\\n\\ndef function_example():\\n    def function_example2():\\n        # a is defined as a local variable/scope\\n        a = \"computational physics II\"\\n        print(a)\\n    function_example2()',\n",
       " '_i13': 'function_example()',\n",
       " '_i14': '# a is defined as a global variable/scope\\na = \"computational physics II\"',\n",
       " '_i15': '# 4th Example\\n\\ndef function_example():\\n    def function_example2():\\n        print(a)\\n    function_example2()',\n",
       " '_i16': '# 4th Example\\n\\ndef function_example():\\n    def function_example2():\\n        print(a)\\n    function_example2()',\n",
       " '_i17': 'function_example()',\n",
       " '_i18': 'print(a)',\n",
       " '_i19': '%whos',\n",
       " '_i20': '# Free the memory/remove the variable\\ndel(a)',\n",
       " '_i21': 'print(a) # prints an error',\n",
       " '_i22': '#print(a) # prints an error',\n",
       " '_i23': '# Global vriable\\n\\na = \"physics\"\\n\\ndef function_example3():\\n    a = \"biology\"\\n    print(a)',\n",
       " 'a': 'biology',\n",
       " 'function_example3': <function __main__.function_example3()>,\n",
       " '_i24': 'print(a)',\n",
       " '_i25': 'function_example3()',\n",
       " '_i26': 'print(a)',\n",
       " '_i27': '# Example\\n\\na = \"physics\"\\n\\ndef function_example4():\\n    # We use the keyword global\\n    \\n    global a\\n    a = \"biology\"\\n    print(a)\\n    ',\n",
       " 'function_example4': <function __main__.function_example4()>,\n",
       " '_i28': '# Print the global variable \\nprint(a)',\n",
       " '_i29': '# Print function output\\nfunction_example4()',\n",
       " '_i30': '# Print the global variable \\nprint(a)',\n",
       " '_i31': '# View all the variables, methods that are being used in memory\\nglobals()'}"
      ]
     },
     "execution_count": 31,
     "metadata": {},
     "output_type": "execute_result"
    }
   ],
   "source": [
    "# View all the variables, methods that are being used in memory\n",
    "globals()"
   ]
  },
  {
   "cell_type": "code",
   "execution_count": 32,
   "id": "946d59c6",
   "metadata": {},
   "outputs": [
    {
     "data": {
      "text/plain": [
       "{'__name__': '__main__',\n",
       " '__doc__': 'Automatically created module for IPython interactive environment',\n",
       " '__package__': None,\n",
       " '__loader__': None,\n",
       " '__spec__': None,\n",
       " '__builtin__': <module 'builtins' (built-in)>,\n",
       " '__builtins__': <module 'builtins' (built-in)>,\n",
       " '_ih': ['',\n",
       "  '# Example\\n\\ndef function_example():\\n    # a is defined as a local variable/scope\\n    a = \"computational physics II\"\\n    #print(a)',\n",
       "  '# Call the funtion\\n\\nfunction_example()\\n\\nprint(a) # produces an error',\n",
       "  '# Example\\n\\ndef function_example():\\n    # a is defined as a local variable/scope\\n    a = \"computational physics II\"\\n    print(a)',\n",
       "  '# Call the funtion\\n\\nfunction_example()\\n\\nprint(a) # produces an error',\n",
       "  '# Call the funtion\\n\\nfunction_example()\\n\\n#print(a) # produces an error',\n",
       "  '# 2nd Example\\n\\ndef function_example():\\n    # a is defined as a local variable/scope\\n    a = \"computational physics II\"\\n    def function_example2():\\n        print(a)\\n    function_example2()',\n",
       "  'function_example()',\n",
       "  '# 3rd Example\\n\\ndef function_example():\\n    def function_example2():\\n        # a is defined as a local variable/scope\\n        a = \"computational physics II\"\\n        print(a)\\n    function_example2()',\n",
       "  'function_example()',\n",
       "  '# 3rd Example\\n\\ndef function_example():\\n    def function_example2():\\n        # a is defined as a local variable/scope\\n        a = \"computational physics II\"\\n    print(a)\\n    function_example2()',\n",
       "  'function_example()',\n",
       "  '# 3rd Example\\n\\ndef function_example():\\n    def function_example2():\\n        # a is defined as a local variable/scope\\n        a = \"computational physics II\"\\n        print(a)\\n    function_example2()',\n",
       "  'function_example()',\n",
       "  '# a is defined as a global variable/scope\\na = \"computational physics II\"',\n",
       "  '# 4th Example\\n\\ndef function_example():\\n    def function_example2():\\n        print(a)\\n    function_example2()',\n",
       "  '# 4th Example\\n\\ndef function_example():\\n    def function_example2():\\n        print(a)\\n    function_example2()',\n",
       "  'function_example()',\n",
       "  'print(a)',\n",
       "  \"get_ipython().run_line_magic('whos', '')\",\n",
       "  '# Free the memory/remove the variable\\ndel(a)',\n",
       "  'print(a) # prints an error',\n",
       "  '#print(a) # prints an error',\n",
       "  '# Global vriable\\n\\na = \"physics\"\\n\\ndef function_example3():\\n    a = \"biology\"\\n    print(a)',\n",
       "  'print(a)',\n",
       "  'function_example3()',\n",
       "  'print(a)',\n",
       "  '# Example\\n\\na = \"physics\"\\n\\ndef function_example4():\\n    # We use the keyword global\\n    \\n    global a\\n    a = \"biology\"\\n    print(a)\\n    ',\n",
       "  '# Print the global variable \\nprint(a)',\n",
       "  '# Print function output\\nfunction_example4()',\n",
       "  '# Print the global variable \\nprint(a)',\n",
       "  '# View all the variables, methods that are being used in memory\\nglobals()',\n",
       "  'locals()'],\n",
       " '_oh': {31: {...}},\n",
       " '_dh': [PosixPath('/Users/wbandabarragan/Library/CloudStorage/Dropbox/GitHub_Repos/computational-physics-2/unit-2')],\n",
       " 'In': ['',\n",
       "  '# Example\\n\\ndef function_example():\\n    # a is defined as a local variable/scope\\n    a = \"computational physics II\"\\n    #print(a)',\n",
       "  '# Call the funtion\\n\\nfunction_example()\\n\\nprint(a) # produces an error',\n",
       "  '# Example\\n\\ndef function_example():\\n    # a is defined as a local variable/scope\\n    a = \"computational physics II\"\\n    print(a)',\n",
       "  '# Call the funtion\\n\\nfunction_example()\\n\\nprint(a) # produces an error',\n",
       "  '# Call the funtion\\n\\nfunction_example()\\n\\n#print(a) # produces an error',\n",
       "  '# 2nd Example\\n\\ndef function_example():\\n    # a is defined as a local variable/scope\\n    a = \"computational physics II\"\\n    def function_example2():\\n        print(a)\\n    function_example2()',\n",
       "  'function_example()',\n",
       "  '# 3rd Example\\n\\ndef function_example():\\n    def function_example2():\\n        # a is defined as a local variable/scope\\n        a = \"computational physics II\"\\n        print(a)\\n    function_example2()',\n",
       "  'function_example()',\n",
       "  '# 3rd Example\\n\\ndef function_example():\\n    def function_example2():\\n        # a is defined as a local variable/scope\\n        a = \"computational physics II\"\\n    print(a)\\n    function_example2()',\n",
       "  'function_example()',\n",
       "  '# 3rd Example\\n\\ndef function_example():\\n    def function_example2():\\n        # a is defined as a local variable/scope\\n        a = \"computational physics II\"\\n        print(a)\\n    function_example2()',\n",
       "  'function_example()',\n",
       "  '# a is defined as a global variable/scope\\na = \"computational physics II\"',\n",
       "  '# 4th Example\\n\\ndef function_example():\\n    def function_example2():\\n        print(a)\\n    function_example2()',\n",
       "  '# 4th Example\\n\\ndef function_example():\\n    def function_example2():\\n        print(a)\\n    function_example2()',\n",
       "  'function_example()',\n",
       "  'print(a)',\n",
       "  \"get_ipython().run_line_magic('whos', '')\",\n",
       "  '# Free the memory/remove the variable\\ndel(a)',\n",
       "  'print(a) # prints an error',\n",
       "  '#print(a) # prints an error',\n",
       "  '# Global vriable\\n\\na = \"physics\"\\n\\ndef function_example3():\\n    a = \"biology\"\\n    print(a)',\n",
       "  'print(a)',\n",
       "  'function_example3()',\n",
       "  'print(a)',\n",
       "  '# Example\\n\\na = \"physics\"\\n\\ndef function_example4():\\n    # We use the keyword global\\n    \\n    global a\\n    a = \"biology\"\\n    print(a)\\n    ',\n",
       "  '# Print the global variable \\nprint(a)',\n",
       "  '# Print function output\\nfunction_example4()',\n",
       "  '# Print the global variable \\nprint(a)',\n",
       "  '# View all the variables, methods that are being used in memory\\nglobals()',\n",
       "  'locals()'],\n",
       " 'Out': {31: {...}},\n",
       " 'get_ipython': <bound method InteractiveShell.get_ipython of <ipykernel.zmqshell.ZMQInteractiveShell object at 0x10516e8b0>>,\n",
       " 'exit': <IPython.core.autocall.ZMQExitAutocall at 0x105183520>,\n",
       " 'quit': <IPython.core.autocall.ZMQExitAutocall at 0x105183520>,\n",
       " 'open': <function io.open(file, mode='r', buffering=-1, encoding=None, errors=None, newline=None, closefd=True, opener=None)>,\n",
       " '_': {...},\n",
       " '__': '',\n",
       " '___': '',\n",
       " '__session__': '/Users/wbandabarragan/Library/CloudStorage/Dropbox/GitHub_Repos/computational-physics-2/unit-2/203-python-scripts.ipynb',\n",
       " '_i': '# View all the variables, methods that are being used in memory\\nglobals()',\n",
       " '_ii': '# Print the global variable \\nprint(a)',\n",
       " '_iii': '# Print function output\\nfunction_example4()',\n",
       " '_i1': '# Example\\n\\ndef function_example():\\n    # a is defined as a local variable/scope\\n    a = \"computational physics II\"\\n    #print(a)',\n",
       " 'function_example': <function __main__.function_example()>,\n",
       " '_i2': '# Call the funtion\\n\\nfunction_example()\\n\\nprint(a) # produces an error',\n",
       " '_i3': '# Example\\n\\ndef function_example():\\n    # a is defined as a local variable/scope\\n    a = \"computational physics II\"\\n    print(a)',\n",
       " '_i4': '# Call the funtion\\n\\nfunction_example()\\n\\nprint(a) # produces an error',\n",
       " '_i5': '# Call the funtion\\n\\nfunction_example()\\n\\n#print(a) # produces an error',\n",
       " '_i6': '# 2nd Example\\n\\ndef function_example():\\n    # a is defined as a local variable/scope\\n    a = \"computational physics II\"\\n    def function_example2():\\n        print(a)\\n    function_example2()',\n",
       " '_i7': 'function_example()',\n",
       " '_i8': '# 3rd Example\\n\\ndef function_example():\\n    def function_example2():\\n        # a is defined as a local variable/scope\\n        a = \"computational physics II\"\\n        print(a)\\n    function_example2()',\n",
       " '_i9': 'function_example()',\n",
       " '_i10': '# 3rd Example\\n\\ndef function_example():\\n    def function_example2():\\n        # a is defined as a local variable/scope\\n        a = \"computational physics II\"\\n    print(a)\\n    function_example2()',\n",
       " '_i11': 'function_example()',\n",
       " '_i12': '# 3rd Example\\n\\ndef function_example():\\n    def function_example2():\\n        # a is defined as a local variable/scope\\n        a = \"computational physics II\"\\n        print(a)\\n    function_example2()',\n",
       " '_i13': 'function_example()',\n",
       " '_i14': '# a is defined as a global variable/scope\\na = \"computational physics II\"',\n",
       " '_i15': '# 4th Example\\n\\ndef function_example():\\n    def function_example2():\\n        print(a)\\n    function_example2()',\n",
       " '_i16': '# 4th Example\\n\\ndef function_example():\\n    def function_example2():\\n        print(a)\\n    function_example2()',\n",
       " '_i17': 'function_example()',\n",
       " '_i18': 'print(a)',\n",
       " '_i19': '%whos',\n",
       " '_i20': '# Free the memory/remove the variable\\ndel(a)',\n",
       " '_i21': 'print(a) # prints an error',\n",
       " '_i22': '#print(a) # prints an error',\n",
       " '_i23': '# Global vriable\\n\\na = \"physics\"\\n\\ndef function_example3():\\n    a = \"biology\"\\n    print(a)',\n",
       " 'a': 'biology',\n",
       " 'function_example3': <function __main__.function_example3()>,\n",
       " '_i24': 'print(a)',\n",
       " '_i25': 'function_example3()',\n",
       " '_i26': 'print(a)',\n",
       " '_i27': '# Example\\n\\na = \"physics\"\\n\\ndef function_example4():\\n    # We use the keyword global\\n    \\n    global a\\n    a = \"biology\"\\n    print(a)\\n    ',\n",
       " 'function_example4': <function __main__.function_example4()>,\n",
       " '_i28': '# Print the global variable \\nprint(a)',\n",
       " '_i29': '# Print function output\\nfunction_example4()',\n",
       " '_i30': '# Print the global variable \\nprint(a)',\n",
       " '_i31': '# View all the variables, methods that are being used in memory\\nglobals()',\n",
       " '_31': {...},\n",
       " '_i32': 'locals()'}"
      ]
     },
     "execution_count": 32,
     "metadata": {},
     "output_type": "execute_result"
    }
   ],
   "source": [
    "locals()"
   ]
  },
  {
   "cell_type": "code",
   "execution_count": 33,
   "id": "b43fc902",
   "metadata": {},
   "outputs": [
    {
     "name": "stdout",
     "output_type": "stream",
     "text": [
      "Variable            Type        Data/Info\n",
      "-----------------------------------------\n",
      "a                   str         biology\n",
      "function_example    function    <function function_example at 0x108d61550>\n",
      "function_example3   function    <function function_example3 at 0x108d861f0>\n",
      "function_example4   function    <function function_example4 at 0x108d615e0>\n"
     ]
    }
   ],
   "source": [
    "# Names of variables:\n",
    "\n",
    "%whos"
   ]
  },
  {
   "cell_type": "code",
   "execution_count": 34,
   "id": "aecf5ae1",
   "metadata": {},
   "outputs": [
    {
     "name": "stdout",
     "output_type": "stream",
     "text": [
      "biology\n"
     ]
    }
   ],
   "source": [
    "print(a)"
   ]
  },
  {
   "cell_type": "code",
   "execution_count": 35,
   "id": "0bd1d4b6",
   "metadata": {},
   "outputs": [],
   "source": [
    "del(a)"
   ]
  },
  {
   "cell_type": "code",
   "execution_count": 36,
   "id": "76474c4a",
   "metadata": {
    "scrolled": true
   },
   "outputs": [
    {
     "name": "stdout",
     "output_type": "stream",
     "text": [
      "Variable            Type        Data/Info\n",
      "-----------------------------------------\n",
      "function_example    function    <function function_example at 0x108d61550>\n",
      "function_example3   function    <function function_example3 at 0x108d861f0>\n",
      "function_example4   function    <function function_example4 at 0x108d615e0>\n"
     ]
    }
   ],
   "source": [
    "# Names of variables:\n",
    "\n",
    "%whos"
   ]
  },
  {
   "cell_type": "markdown",
   "id": "e2e56414-2e9a-4bf4-8890-78457f5faaa4",
   "metadata": {},
   "source": [
    "## In Python classes:\n",
    "\n",
    "### Global and local scopes"
   ]
  },
  {
   "cell_type": "code",
   "execution_count": 37,
   "id": "1add7ebb-c455-407c-95b7-e41dd6f7611e",
   "metadata": {},
   "outputs": [],
   "source": [
    "# Global variable\n",
    "global_var = \"I am a global variable\"\n",
    "\n",
    "class Example:\n",
    "    def __init__(self, value):\n",
    "        # Local variable (instance attribute)\n",
    "        self.local_var = value\n",
    "\n",
    "    def show_variables(self):\n",
    "        # Accessing local and global variables\n",
    "        print(f\"Local variable: {self.local_var}\")\n",
    "        print(f\"Global variable: {global_var}\")\n"
   ]
  },
  {
   "cell_type": "code",
   "execution_count": 38,
   "id": "2c500b40-f3e3-40b6-83fe-d0afe13211b9",
   "metadata": {},
   "outputs": [
    {
     "name": "stdout",
     "output_type": "stream",
     "text": [
      "Local variable: I am a local variable\n",
      "Global variable: I am a global variable\n"
     ]
    }
   ],
   "source": [
    "# Create an instance\n",
    "obj = Example(\"I am a local variable\")\n",
    "obj.show_variables()"
   ]
  },
  {
   "cell_type": "markdown",
   "id": "0f11a9dc-ab60-42b9-a22d-3e75a21a5205",
   "metadata": {},
   "source": [
    "### Using global inside a class"
   ]
  },
  {
   "cell_type": "code",
   "execution_count": 48,
   "id": "2e4b1dd1-0d56-43f0-ac59-5b0f82f38f6f",
   "metadata": {},
   "outputs": [],
   "source": [
    "# Global variable\n",
    "counter = 0\n",
    "\n",
    "class Counter:\n",
    "    def increment(self):\n",
    "        global counter  # Declaring the global variable\n",
    "        counter += 1\n",
    "        print(f\"Counter updated to: {counter}\")\n"
   ]
  },
  {
   "cell_type": "code",
   "execution_count": 49,
   "id": "618fbc94-3ed3-401f-880e-e494f51ac888",
   "metadata": {},
   "outputs": [
    {
     "name": "stdout",
     "output_type": "stream",
     "text": [
      "Counter updated to: 1\n",
      "Counter updated to: 2\n",
      "Counter updated to: 3\n",
      "Counter updated to: 4\n",
      "Counter updated to: 5\n",
      "Counter updated to: 6\n",
      "Counter updated to: 7\n",
      "Counter updated to: 8\n"
     ]
    }
   ],
   "source": [
    "# Create object and call method\n",
    "obj1 = Counter()\n",
    "obj1.increment()\n",
    "obj1.increment()\n",
    "obj1.increment()\n",
    "obj1.increment()\n",
    "obj1.increment()\n",
    "obj1.increment()\n",
    "obj1.increment()\n",
    "obj1.increment()"
   ]
  },
  {
   "cell_type": "code",
   "execution_count": 45,
   "id": "55984931-6331-4a81-964a-0e05847a846a",
   "metadata": {},
   "outputs": [
    {
     "name": "stdout",
     "output_type": "stream",
     "text": [
      "34\n"
     ]
    }
   ],
   "source": [
    "print(counter)"
   ]
  },
  {
   "cell_type": "markdown",
   "id": "938aeb59",
   "metadata": {},
   "source": [
    "# Python Scripts:\n",
    "\n",
    "- Python is a powerful scripting language.\n",
    "\n",
    "\n",
    "- A script is a code library.\n",
    "\n",
    "\n",
    "- It is a file with .py extension\n",
    "\n",
    "\n",
    "- It contains a set of classes/functions.\n",
    "\n",
    "#### Reference:\n",
    "\n",
    "https://sbu-python-class.github.io/python-science/01-python/w4-python-modules.html\n"
   ]
  },
  {
   "cell_type": "markdown",
   "id": "1d7c631e",
   "metadata": {},
   "source": [
    "## Creating/Viewing scripts\n",
    "To create a module, save or edit python code in a file with the file extension **.py**:"
   ]
  },
  {
   "cell_type": "code",
   "execution_count": 33,
   "id": "fee6a010",
   "metadata": {},
   "outputs": [
    {
     "name": "stdout",
     "output_type": "stream",
     "text": [
      "# Define a basic python function\n",
      "\n",
      "def print_message(msg):\n",
      "    \"\"\"\n",
      "    Function to print a message(msg).\n",
      "    \"\"\"\n",
      "    print(\"Hola, \" + msg)\n"
     ]
    }
   ],
   "source": [
    "!cat ./first_script.py"
   ]
  },
  {
   "cell_type": "markdown",
   "id": "c0221f95",
   "metadata": {},
   "source": [
    "## Using scripts as modules\n",
    "\n",
    "We can use these modules using the **import** statement.\n",
    "\n",
    "Module can contain functions and/or variables of all types (arrays, dictionaries, objects etc)."
   ]
  },
  {
   "cell_type": "code",
   "execution_count": 51,
   "id": "a3644aff-b71b-416c-ad05-c64ac125d31b",
   "metadata": {},
   "outputs": [
    {
     "name": "stdout",
     "output_type": "stream",
     "text": [
      "-rw-r--r--@ 1 wbandabarragan  staff  208 Feb 26 14:43 first_module.py\n"
     ]
    }
   ],
   "source": [
    "!ls -ltr first_module.py"
   ]
  },
  {
   "cell_type": "code",
   "execution_count": 52,
   "id": "c56b871c",
   "metadata": {},
   "outputs": [],
   "source": [
    "# We import our module\n",
    "import first_module"
   ]
  },
  {
   "cell_type": "code",
   "execution_count": 53,
   "id": "50dbcd3c",
   "metadata": {},
   "outputs": [
    {
     "name": "stdout",
     "output_type": "stream",
     "text": [
      "We are learning python classes in  Fisica Computacional II.\n"
     ]
    }
   ],
   "source": [
    "# We use it defining a str\n",
    "\n",
    "first_module.print_message(\"in  Fisica Computacional II.\")"
   ]
  },
  {
   "cell_type": "code",
   "execution_count": 54,
   "id": "dbc906c3-6b88-4912-a02e-d13c118d0e76",
   "metadata": {},
   "outputs": [
    {
     "name": "stdout",
     "output_type": "stream",
     "text": [
      "We are learning python classes at YT.\n"
     ]
    }
   ],
   "source": [
    "import first_script"
   ]
  },
  {
   "cell_type": "code",
   "execution_count": 55,
   "id": "e7679bcb-3408-462e-8859-3fd91e0f4f41",
   "metadata": {},
   "outputs": [
    {
     "name": "stdout",
     "output_type": "stream",
     "text": [
      "We are learning python classes in  Fisica Computacional II.\n"
     ]
    }
   ],
   "source": [
    "# We use it defining a str\n",
    "\n",
    "first_script.print_message(\"in  Fisica Computacional II.\")"
   ]
  },
  {
   "cell_type": "markdown",
   "id": "7a40adce",
   "metadata": {},
   "source": [
    "### Second example"
   ]
  },
  {
   "cell_type": "code",
   "execution_count": 37,
   "id": "41d53dc2",
   "metadata": {},
   "outputs": [
    {
     "name": "stdout",
     "output_type": "stream",
     "text": [
      "# This is our second script\n",
      "\n",
      "# Function\n",
      "def print_message(msg):\n",
      "    \"\"\"\n",
      "    Print the string (msg) provided by the user\n",
      "    Input: String (msg)\n",
      "    Output: print statement\n",
      "    \"\"\"\n",
      "    print(\"Hola, \" + msg)\n",
      "\n",
      "# Dictionary\n",
      "physics_courses = {\n",
      "  \"level\": \"BSc\",\n",
      "  \"course\": \"electrodynamics I\",\n",
      "  \"semester\": 5,\n",
      "  \"programme\": \"physics/nanotechnology\"\n",
      "}\n"
     ]
    }
   ],
   "source": [
    "!cat second_script.py"
   ]
  },
  {
   "cell_type": "code",
   "execution_count": 62,
   "id": "d34ef8cb",
   "metadata": {},
   "outputs": [
    {
     "name": "stdout",
     "output_type": "stream",
     "text": [
      "Hola, Hola\n"
     ]
    }
   ],
   "source": [
    "# We import our module\n",
    "import second_script"
   ]
  },
  {
   "cell_type": "code",
   "execution_count": 63,
   "id": "9fa7f17e",
   "metadata": {},
   "outputs": [
    {
     "name": "stdout",
     "output_type": "stream",
     "text": [
      "Hola, Clase de Fisica Computacional II.\n"
     ]
    }
   ],
   "source": [
    "# We use it defining a str\n",
    "\n",
    "second_script.print_message(\"Clase de Fisica Computacional II.\")"
   ]
  },
  {
   "cell_type": "code",
   "execution_count": 64,
   "id": "3a7ed96e",
   "metadata": {},
   "outputs": [
    {
     "name": "stdout",
     "output_type": "stream",
     "text": [
      "5 <class 'int'>\n",
      "physics/nanotechnology <class 'str'>\n"
     ]
    }
   ],
   "source": [
    "# We call the dictionary\n",
    "\n",
    "obj1 = second_script.physics_courses[\"semester\"]\n",
    "obj2 = second_script.physics_courses[\"programme\"]\n",
    "\n",
    "print(obj1, type(obj1))\n",
    "print(obj2, type(obj2))"
   ]
  },
  {
   "cell_type": "markdown",
   "id": "69595284-5856-4e25-b0b4-8f30f0bf04f3",
   "metadata": {},
   "source": [
    "### Running vs. Importing Scripts/Modules\n",
    "\n",
    "In Python, every script/module has a special built-in variable called \\_\\_name__.\n",
    "\n",
    "- If the script is run directly, \\_\\_name__ is set to \\_\\_main__.\n",
    "\n",
    "- If the script is imported, \\_\\_name__ is set to the module’s filename (e.g., \"script\" instead of \\_\\_main__).\n",
    "\n",
    "A line: \\_\\_name__ == \"\\_\\_main__\" ensures that the script runs only when executed directly and not when imported as a module into another script.\n",
    "\n",
    "- **Direct Execution:** If we run the script (python script.py), the block under if \\_\\_name__ == \"\\_\\_main__\": will execute.\n",
    "\n",
    "- **Import Safety:** If you import this script in another Python file (import script), the code inside this block will not run automatically.\n",
    "\n",
    "The distinctioon between modules and scripts in small, but we could say that:\n",
    "\n",
    "- Scripts are run automously.\n",
    "\n",
    "- Modules act as libraries that are imported.\n",
    "\n",
    "- Of course, scripts can always be imported as modules.\n",
    "\n",
    "- \\_\\_name__ == \"\\_\\_main__\" should be used to distinguish script-like code from module-like code.\n"
   ]
  },
  {
   "cell_type": "markdown",
   "id": "49c658ef-c632-4712-9a51-c845f63a28df",
   "metadata": {},
   "source": [
    "### Third file:\n",
    "\n",
    "!cat third_script.py\n",
    "\n",
    "def say_hi():\n",
    "\n",
    "    print(\"Hi from Python!\")\n",
    "\n",
    "if __name__ == \"__main__\":\n",
    "\n",
    "    print(\"Script is running directly!\")\n",
    "    \n",
    "    say_hi()\n",
    "\n",
    "### Fourth file:\n",
    "\n",
    "!cat fourth_script.py \n",
    "import third_script\n",
    "\n",
    "print(\"This is another script!\")\n"
   ]
  },
  {
   "cell_type": "code",
   "execution_count": 57,
   "id": "7e8bce97-b4f8-48e6-a2d1-5161e77de196",
   "metadata": {},
   "outputs": [
    {
     "name": "stdout",
     "output_type": "stream",
     "text": [
      "This is another script!\n"
     ]
    }
   ],
   "source": [
    "import fourth_script"
   ]
  },
  {
   "cell_type": "markdown",
   "id": "300d27a5",
   "metadata": {},
   "source": [
    "## Built-in modules in Python:"
   ]
  },
  {
   "cell_type": "markdown",
   "id": "da9f0d8d",
   "metadata": {},
   "source": [
    "### 1. platform:\n",
    "\n",
    "https://docs.python.org/3/library/platform.html\n",
    "\n"
   ]
  },
  {
   "cell_type": "code",
   "execution_count": 58,
   "id": "5ba2aa51",
   "metadata": {},
   "outputs": [],
   "source": [
    "import platform"
   ]
  },
  {
   "cell_type": "code",
   "execution_count": 59,
   "id": "6f063a5b",
   "metadata": {},
   "outputs": [
    {
     "name": "stdout",
     "output_type": "stream",
     "text": [
      "Darwin\n",
      "arm\n",
      "3.9.18\n"
     ]
    }
   ],
   "source": [
    "obj = platform.system()\n",
    "\n",
    "print(obj)\n",
    "\n",
    "obj2 = platform.processor()\n",
    "\n",
    "print(obj2)\n",
    "\n",
    "obj3 = platform.python_version()\n",
    "\n",
    "print(obj3)"
   ]
  },
  {
   "cell_type": "markdown",
   "id": "ce1ce667",
   "metadata": {},
   "source": [
    "### The dir() function in platform\n",
    "\n",
    "dir() lists all the function names (or variable names) in a module."
   ]
  },
  {
   "cell_type": "code",
   "execution_count": 60,
   "id": "8f00f42f",
   "metadata": {},
   "outputs": [
    {
     "name": "stdout",
     "output_type": "stream",
     "text": [
      "['_Processor', '_WIN32_CLIENT_RELEASES', '_WIN32_SERVER_RELEASES', '__builtins__', '__cached__', '__copyright__', '__doc__', '__file__', '__loader__', '__name__', '__package__', '__spec__', '__version__', '_comparable_version', '_component_re', '_default_architecture', '_follow_symlinks', '_get_machine_win32', '_ironpython26_sys_version_parser', '_ironpython_sys_version_parser', '_java_getprop', '_libc_search', '_mac_ver_xml', '_node', '_norm_version', '_platform', '_platform_cache', '_pypy_sys_version_parser', '_sys_version', '_sys_version_cache', '_sys_version_parser', '_syscmd_file', '_syscmd_ver', '_uname_cache', '_unknown_as_blank', '_ver_output', '_ver_stages', 'architecture', 'collections', 'functools', 'itertools', 'java_ver', 'libc_ver', 'mac_ver', 'machine', 'node', 'os', 'platform', 'processor', 'python_branch', 'python_build', 'python_compiler', 'python_implementation', 'python_revision', 'python_version', 'python_version_tuple', 're', 'release', 'subprocess', 'sys', 'system', 'system_alias', 'uname', 'uname_result', 'version', 'win32_edition', 'win32_is_iot', 'win32_ver']\n"
     ]
    }
   ],
   "source": [
    "obj3 = dir(platform)\n",
    "\n",
    "print(obj3)"
   ]
  },
  {
   "cell_type": "markdown",
   "id": "8252c2fe",
   "metadata": {},
   "source": [
    "### Import using aliasing:"
   ]
  },
  {
   "cell_type": "code",
   "execution_count": 61,
   "id": "cc64fb67",
   "metadata": {},
   "outputs": [
    {
     "ename": "ModuleNotFoundError",
     "evalue": "No module named 'second_script'",
     "output_type": "error",
     "traceback": [
      "\u001b[0;31m---------------------------------------------------------------------------\u001b[0m",
      "\u001b[0;31mModuleNotFoundError\u001b[0m                       Traceback (most recent call last)",
      "Cell \u001b[0;32mIn[61], line 2\u001b[0m\n\u001b[1;32m      1\u001b[0m \u001b[38;5;66;03m# We import our module\u001b[39;00m\n\u001b[0;32m----> 2\u001b[0m \u001b[38;5;28;01mimport\u001b[39;00m \u001b[38;5;21;01msecond_script\u001b[39;00m \u001b[38;5;28;01mas\u001b[39;00m \u001b[38;5;21;01msm\u001b[39;00m\n",
      "\u001b[0;31mModuleNotFoundError\u001b[0m: No module named 'second_script'"
     ]
    }
   ],
   "source": [
    "# We import our module\n",
    "import second_script as sm"
   ]
  },
  {
   "cell_type": "code",
   "execution_count": 50,
   "id": "deb2d61c",
   "metadata": {},
   "outputs": [
    {
     "name": "stdout",
     "output_type": "stream",
     "text": [
      "['__builtins__', '__cached__', '__doc__', '__file__', '__loader__', '__name__', '__package__', '__spec__', 'physics_courses', 'print_message']\n"
     ]
    }
   ],
   "source": [
    "obj4 = dir(sm)\n",
    "\n",
    "print(obj4)"
   ]
  },
  {
   "cell_type": "markdown",
   "id": "48a8a452",
   "metadata": {},
   "source": [
    "### 2. datetime\n",
    "\n",
    "https://www.w3schools.com/python/python_datetime.asp"
   ]
  },
  {
   "cell_type": "code",
   "execution_count": 51,
   "id": "5d1ada30",
   "metadata": {},
   "outputs": [],
   "source": [
    "import datetime"
   ]
  },
  {
   "cell_type": "code",
   "execution_count": 52,
   "id": "96454e47",
   "metadata": {},
   "outputs": [
    {
     "name": "stdout",
     "output_type": "stream",
     "text": [
      "2025-02-26 07:27:50.462203 <class 'datetime.datetime'>\n"
     ]
    }
   ],
   "source": [
    "# Call the current time\n",
    "\n",
    "x = datetime.datetime.now()\n",
    "\n",
    "print(x, type(x))"
   ]
  },
  {
   "cell_type": "code",
   "execution_count": 53,
   "id": "6d4cd3a1",
   "metadata": {},
   "outputs": [
    {
     "name": "stdout",
     "output_type": "stream",
     "text": [
      "2025-02-26 07:27:50.462203\n"
     ]
    }
   ],
   "source": [
    "y = datetime.datetime.fromisoformat(str(x))\n",
    "\n",
    "print(y)"
   ]
  },
  {
   "cell_type": "code",
   "execution_count": 54,
   "id": "845ee075",
   "metadata": {},
   "outputs": [
    {
     "name": "stdout",
     "output_type": "stream",
     "text": [
      "year: 2025\n",
      "month: 02\n",
      "day: 26\n",
      "time: 07:27:50\n",
      "date and time: 02/26/2025, 07:27:50\n"
     ]
    }
   ],
   "source": [
    "# Examples:\n",
    "now = datetime.datetime.now() # current date and time\n",
    "\n",
    "year = now.strftime(\"%Y\")\n",
    "print(\"year:\", year)\n",
    "\n",
    "month = now.strftime(\"%m\")\n",
    "print(\"month:\", month)\n",
    "\n",
    "day = now.strftime(\"%d\")\n",
    "print(\"day:\", day)\n",
    "\n",
    "time = now.strftime(\"%H:%M:%S\")\n",
    "print(\"time:\", time)\n",
    "\n",
    "date_time = now.strftime(\"%m/%d/%Y, %H:%M:%S\")\n",
    "print(\"date and time:\",date_time)"
   ]
  },
  {
   "cell_type": "markdown",
   "id": "584540ee",
   "metadata": {},
   "source": [
    "# Exceptions\n",
    "\n",
    "There are a lot of different types of exceptions that you can catch, and you can catch multiple ones per except clause or have multiple except clauses.\n",
    "\n",
    "You probably won't be able to anticipate every failure mode in advance.  In that case, when you run and your code crashes because of an exception, the python interpreter will print out the name of the exception and you can then modify your code to take the appropriate action.\n",
    "\n",
    "Python raises exceptions when it encounters an error.  The idea is that you can trap these exceptions and take an appropriate action instead of causing the code to crash.\n",
    "\n",
    "The mechanism for this is `try` / `except`.  Here's an example that causes an exception, `ZeroDivisionError`:"
   ]
  },
  {
   "cell_type": "markdown",
   "id": "7d4724af",
   "metadata": {},
   "source": [
    "### Example 1:"
   ]
  },
  {
   "cell_type": "code",
   "execution_count": 55,
   "id": "09e5a376",
   "metadata": {},
   "outputs": [
    {
     "ename": "ZeroDivisionError",
     "evalue": "float division by zero",
     "output_type": "error",
     "traceback": [
      "\u001b[0;31m---------------------------------------------------------------------------\u001b[0m",
      "\u001b[0;31mZeroDivisionError\u001b[0m                         Traceback (most recent call last)",
      "Cell \u001b[0;32mIn[55], line 1\u001b[0m\n\u001b[0;32m----> 1\u001b[0m obj \u001b[38;5;241m=\u001b[39m \u001b[38;5;241;43m1.\u001b[39;49m\u001b[38;5;241;43m/\u001b[39;49m\u001b[38;5;241;43m0.\u001b[39;49m\n\u001b[1;32m      3\u001b[0m \u001b[38;5;28mprint\u001b[39m(obj)\n",
      "\u001b[0;31mZeroDivisionError\u001b[0m: float division by zero"
     ]
    }
   ],
   "source": [
    "obj = 1./0.\n",
    "\n",
    "print(obj)"
   ]
  },
  {
   "cell_type": "code",
   "execution_count": 56,
   "id": "422fc6ac",
   "metadata": {},
   "outputs": [
    {
     "name": "stdout",
     "output_type": "stream",
     "text": [
      "Warning: you are dividing by zero\n"
     ]
    }
   ],
   "source": [
    "# Add an exception:\n",
    "try:\n",
    "    # Here we write the operation\n",
    "    a = 1./0.\n",
    "    \n",
    "except ZeroDivisionError:\n",
    "    # Add an exception -> warning\n",
    "    print(\"Warning: you are dividing by zero\")\n",
    "    a = 1. "
   ]
  },
  {
   "cell_type": "code",
   "execution_count": 57,
   "id": "a8f72f7e",
   "metadata": {},
   "outputs": [
    {
     "name": "stdout",
     "output_type": "stream",
     "text": [
      "1.0\n"
     ]
    }
   ],
   "source": [
    "print(a)"
   ]
  },
  {
   "cell_type": "markdown",
   "id": "5d79720d",
   "metadata": {},
   "source": [
    "### Example 2:\n",
    "\n",
    "Another example; trying to access a key that doesn't exist in a dictionary:"
   ]
  },
  {
   "cell_type": "code",
   "execution_count": 58,
   "id": "3a60238a",
   "metadata": {},
   "outputs": [
    {
     "name": "stdout",
     "output_type": "stream",
     "text": [
      "1.0\n",
      "2.0\n",
      "3.0\n"
     ]
    },
    {
     "ename": "KeyError",
     "evalue": "'key4'",
     "output_type": "error",
     "traceback": [
      "\u001b[0;31m---------------------------------------------------------------------------\u001b[0m",
      "\u001b[0;31mKeyError\u001b[0m                                  Traceback (most recent call last)",
      "Cell \u001b[0;32mIn[58], line 6\u001b[0m\n\u001b[1;32m      4\u001b[0m \u001b[38;5;28mprint\u001b[39m(dictionary_1[\u001b[38;5;124m\"\u001b[39m\u001b[38;5;124mkey2\u001b[39m\u001b[38;5;124m\"\u001b[39m])\n\u001b[1;32m      5\u001b[0m \u001b[38;5;28mprint\u001b[39m(dictionary_1[\u001b[38;5;124m\"\u001b[39m\u001b[38;5;124mkey3\u001b[39m\u001b[38;5;124m\"\u001b[39m])\n\u001b[0;32m----> 6\u001b[0m \u001b[38;5;28mprint\u001b[39m(\u001b[43mdictionary_1\u001b[49m\u001b[43m[\u001b[49m\u001b[38;5;124;43m\"\u001b[39;49m\u001b[38;5;124;43mkey4\u001b[39;49m\u001b[38;5;124;43m\"\u001b[39;49m\u001b[43m]\u001b[49m)\n",
      "\u001b[0;31mKeyError\u001b[0m: 'key4'"
     ]
    }
   ],
   "source": [
    "dictionary_1 = {\"key1\": 1., \"key2\": 2., \"key3\": 3.}\n",
    "\n",
    "print(dictionary_1[\"key1\"])\n",
    "print(dictionary_1[\"key2\"])\n",
    "print(dictionary_1[\"key3\"])\n",
    "print(dictionary_1[\"key4\"])"
   ]
  },
  {
   "cell_type": "code",
   "execution_count": 59,
   "id": "fa9a5f09",
   "metadata": {},
   "outputs": [
    {
     "name": "stdout",
     "output_type": "stream",
     "text": [
      "Warning: this key does not exist, reverting to key3.\n"
     ]
    }
   ],
   "source": [
    "# Add an exception\n",
    "\n",
    "try:\n",
    "    val = dictionary_1[\"key4\"]\n",
    "    \n",
    "except KeyError: \n",
    "    print(\"Warning: this key does not exist, reverting to key3.\")\n",
    "    val = dictionary_1[\"key3\"]"
   ]
  },
  {
   "cell_type": "code",
   "execution_count": 60,
   "id": "1058d7ff",
   "metadata": {},
   "outputs": [
    {
     "name": "stdout",
     "output_type": "stream",
     "text": [
      "3.0\n"
     ]
    }
   ],
   "source": [
    "print(val)"
   ]
  },
  {
   "cell_type": "markdown",
   "id": "b607ebe8",
   "metadata": {},
   "source": [
    "### Example 3:\n",
    "\n",
    "When you open a file, you get an object which you can then interact with. \n",
    "\n",
    "Here we try to open a file for reading that does not already exist."
   ]
  },
  {
   "cell_type": "code",
   "execution_count": 61,
   "id": "3415235e",
   "metadata": {},
   "outputs": [
    {
     "name": "stdout",
     "output_type": "stream",
     "text": [
      "201-python-classes.ipynb          example_mpi7.py\n",
      "202-examples-python-classes.ipynb example_mpi8.py\n",
      "203-python-scripts.ipynb          example_mpi9.py\n",
      "204-IO-python-classes.ipynb       \u001b[34mfigures\u001b[m\u001b[m\n",
      "205-standalone-modules.ipynb      first_script.py\n",
      "206-python-packaging.ipynb        harmonic.png\n",
      "207-timing-testing.ipynb          job_script.sh\n",
      "208-OOP-python.ipynb              manual_CEDIA_llave_publica.pdf\n",
      "209-python-modules.ipynb          \u001b[34mmy_modules\u001b[m\u001b[m\n",
      "\u001b[34m__pycache__\u001b[m\u001b[m                       \u001b[34mnew_modules\u001b[m\u001b[m\n",
      "bash_example.txt                  prog.py\n",
      "custom_folders.py                 prog2.py\n",
      "custom_folders2.py                \u001b[34mpython-scripts\u001b[m\u001b[m\n",
      "custom_folders3.py                random_square.py\n",
      "empty_txt.txt                     second_script.py\n",
      "example_mpi1.py                   shopping.csv\n",
      "example_mpi10.py                  test-mandelbrot.png\n",
      "example_mpi11.py                  test-mpi.py\n",
      "example_mpi12.py                  test-mpi2.py\n",
      "example_mpi13.py                  test-mpi3.py\n",
      "example_mpi14.py                  test_class.py\n",
      "example_mpi2.py                   test_simple.log\n",
      "example_mpi3.py                   test_simple.py\n",
      "example_mpi4.py                   \u001b[34mtext_files\u001b[m\u001b[m\n",
      "example_mpi5.py                   \u001b[31mthird_module.log\u001b[m\u001b[m\n",
      "example_mpi6.py                   \u001b[31mthird_module.py\u001b[m\u001b[m\n"
     ]
    }
   ],
   "source": [
    "!ls "
   ]
  },
  {
   "cell_type": "code",
   "execution_count": 62,
   "id": "b4618619",
   "metadata": {},
   "outputs": [
    {
     "ename": "FileNotFoundError",
     "evalue": "[Errno 2] No such file or directory: 'file.txt'",
     "output_type": "error",
     "traceback": [
      "\u001b[0;31m---------------------------------------------------------------------------\u001b[0m",
      "\u001b[0;31mFileNotFoundError\u001b[0m                         Traceback (most recent call last)",
      "Cell \u001b[0;32mIn[62], line 3\u001b[0m\n\u001b[1;32m      1\u001b[0m \u001b[38;5;66;03m# Let's try to open a file that does not exist im ./\u001b[39;00m\n\u001b[0;32m----> 3\u001b[0m file \u001b[38;5;241m=\u001b[39m \u001b[38;5;28;43mopen\u001b[39;49m\u001b[43m(\u001b[49m\u001b[38;5;124;43m\"\u001b[39;49m\u001b[38;5;124;43mfile.txt\u001b[39;49m\u001b[38;5;124;43m\"\u001b[39;49m\u001b[43m,\u001b[49m\u001b[43m \u001b[49m\u001b[38;5;124;43m\"\u001b[39;49m\u001b[38;5;124;43mr\u001b[39;49m\u001b[38;5;124;43m\"\u001b[39;49m\u001b[43m)\u001b[49m\n",
      "File \u001b[0;32m/opt/anaconda3/envs/py39/lib/python3.9/site-packages/IPython/core/interactiveshell.py:286\u001b[0m, in \u001b[0;36m_modified_open\u001b[0;34m(file, *args, **kwargs)\u001b[0m\n\u001b[1;32m    279\u001b[0m \u001b[38;5;28;01mif\u001b[39;00m file \u001b[38;5;129;01min\u001b[39;00m {\u001b[38;5;241m0\u001b[39m, \u001b[38;5;241m1\u001b[39m, \u001b[38;5;241m2\u001b[39m}:\n\u001b[1;32m    280\u001b[0m     \u001b[38;5;28;01mraise\u001b[39;00m \u001b[38;5;167;01mValueError\u001b[39;00m(\n\u001b[1;32m    281\u001b[0m         \u001b[38;5;124mf\u001b[39m\u001b[38;5;124m\"\u001b[39m\u001b[38;5;124mIPython won\u001b[39m\u001b[38;5;124m'\u001b[39m\u001b[38;5;124mt let you open fd=\u001b[39m\u001b[38;5;132;01m{\u001b[39;00mfile\u001b[38;5;132;01m}\u001b[39;00m\u001b[38;5;124m by default \u001b[39m\u001b[38;5;124m\"\u001b[39m\n\u001b[1;32m    282\u001b[0m         \u001b[38;5;124m\"\u001b[39m\u001b[38;5;124mas it is likely to crash IPython. If you know what you are doing, \u001b[39m\u001b[38;5;124m\"\u001b[39m\n\u001b[1;32m    283\u001b[0m         \u001b[38;5;124m\"\u001b[39m\u001b[38;5;124myou can use builtins\u001b[39m\u001b[38;5;124m'\u001b[39m\u001b[38;5;124m open.\u001b[39m\u001b[38;5;124m\"\u001b[39m\n\u001b[1;32m    284\u001b[0m     )\n\u001b[0;32m--> 286\u001b[0m \u001b[38;5;28;01mreturn\u001b[39;00m \u001b[43mio_open\u001b[49m\u001b[43m(\u001b[49m\u001b[43mfile\u001b[49m\u001b[43m,\u001b[49m\u001b[43m \u001b[49m\u001b[38;5;241;43m*\u001b[39;49m\u001b[43margs\u001b[49m\u001b[43m,\u001b[49m\u001b[43m \u001b[49m\u001b[38;5;241;43m*\u001b[39;49m\u001b[38;5;241;43m*\u001b[39;49m\u001b[43mkwargs\u001b[49m\u001b[43m)\u001b[49m\n",
      "\u001b[0;31mFileNotFoundError\u001b[0m: [Errno 2] No such file or directory: 'file.txt'"
     ]
    }
   ],
   "source": [
    "# Let's try to open a file that does not exist in ./\n",
    "\n",
    "file = open(\"file.txt\", \"r\")"
   ]
  },
  {
   "cell_type": "code",
   "execution_count": 63,
   "id": "c330a0b6",
   "metadata": {},
   "outputs": [
    {
     "name": "stdout",
     "output_type": "stream",
     "text": [
      "Error: that file does not exist\n"
     ]
    }
   ],
   "source": [
    "# Add an exception\n",
    "\n",
    "try:\n",
    "    \n",
    "    file = open(\"file.txt\", \"r\")\n",
    "    \n",
    "except FileNotFoundError:\n",
    "    \n",
    "    print(\"Error: that file does not exist\")\n",
    "    \n",
    "    file = open(\"./text_files/file.txt\", \"r\")"
   ]
  },
  {
   "cell_type": "code",
   "execution_count": 64,
   "id": "184c5fff",
   "metadata": {},
   "outputs": [
    {
     "name": "stdout",
     "output_type": "stream",
     "text": [
      "<_io.TextIOWrapper name='./text_files/file.txt' mode='r' encoding='UTF-8'>\n"
     ]
    }
   ],
   "source": [
    "print(file)"
   ]
  },
  {
   "cell_type": "code",
   "execution_count": null,
   "id": "b8528e5b-c565-4e46-9d94-d3ee58070024",
   "metadata": {},
   "outputs": [],
   "source": []
  }
 ],
 "metadata": {
  "kernelspec": {
   "display_name": "Python 3 (ipykernel)",
   "language": "python",
   "name": "python3"
  },
  "language_info": {
   "codemirror_mode": {
    "name": "ipython",
    "version": 3
   },
   "file_extension": ".py",
   "mimetype": "text/x-python",
   "name": "python",
   "nbconvert_exporter": "python",
   "pygments_lexer": "ipython3",
   "version": "3.9.18"
  }
 },
 "nbformat": 4,
 "nbformat_minor": 5
}
