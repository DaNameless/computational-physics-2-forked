{
 "cells": [
  {
   "cell_type": "markdown",
   "id": "79a26852",
   "metadata": {},
   "source": [
    "# I/O with python classes\n",
    "\n",
    "One of the main things that we want to do in scientific computing is get data into and out of our programs. \n",
    "\n",
    "In addition to plain text files, there are modules that can read lots of different data formats we might encounter."
   ]
  },
  {
   "cell_type": "markdown",
   "id": "74f474d5",
   "metadata": {},
   "source": [
    "### Print\n",
    "\n",
    "We've already been using print quite a bit, but now we'll look at how to control how information is printed.\n"
   ]
  },
  {
   "cell_type": "code",
   "execution_count": 1,
   "id": "2f779752",
   "metadata": {},
   "outputs": [
    {
     "name": "stdout",
     "output_type": "stream",
     "text": [
      "1 3.54e-05 3.0 my string\n"
     ]
    }
   ],
   "source": [
    "x = 1\n",
    "y = 0.0000354\n",
    "z = 3.0\n",
    "s = \"my string\"\n",
    "\n",
    "print(x, y, z, s)"
   ]
  },
  {
   "cell_type": "markdown",
   "id": "a187db82",
   "metadata": {},
   "source": [
    "We write a string with `{}` embedded to indicate where variables are to be inserted.  Note that `{}` can take arguments.  We use the `format()` method on the string to match the variables to the `{}`."
   ]
  },
  {
   "cell_type": "code",
   "execution_count": 2,
   "id": "de8a589e",
   "metadata": {},
   "outputs": [
    {
     "name": "stdout",
     "output_type": "stream",
     "text": [
      "x = 1, y = 3.54e-05, z = 3.0, s = my string\n"
     ]
    }
   ],
   "source": [
    "print(\"x = {}, y = {}, z = {}, s = {}\".format(x, y, z, s))"
   ]
  },
  {
   "cell_type": "markdown",
   "id": "d61175b6",
   "metadata": {},
   "source": [
    "We can give an optional index/position/descriptor of the value we want to print.\n",
    "\n",
    "We give a format specifier. It has a number field and a type, like `f` and `g` to describe how floating point numbers appear and how much precision to show. Other bits are possible as well (like justification). "
   ]
  },
  {
   "cell_type": "code",
   "execution_count": 3,
   "id": "75950847",
   "metadata": {},
   "outputs": [
    {
     "name": "stdout",
     "output_type": "stream",
     "text": [
      "x = 1, y =   3.54e-05, z = 3.000, s = my string\n"
     ]
    }
   ],
   "source": [
    "print(\"x = {0}, y = {1:10.5g}, z = {2:.3f}, s = {3}\".format(x, y, z, s))"
   ]
  },
  {
   "cell_type": "markdown",
   "id": "de70c753",
   "metadata": {},
   "source": [
    "There are other formatting things, like justification, etc. "
   ]
  },
  {
   "cell_type": "code",
   "execution_count": 4,
   "id": "b6083520",
   "metadata": {},
   "outputs": [
    {
     "name": "stdout",
     "output_type": "stream",
     "text": [
      "                                          centered string                                           \n"
     ]
    }
   ],
   "source": [
    "print(\"{:^100}\".format(\"centered string\"))"
   ]
  },
  {
   "cell_type": "markdown",
   "id": "a3fc9a7c",
   "metadata": {},
   "source": [
    "## File I/O\n",
    "\n",
    "As expected, a file is an object.\n",
    "\n",
    "Here we'll use the `try`, `except` block to capture exceptions (like if the file cannot be opened). "
   ]
  },
  {
   "cell_type": "code",
   "execution_count": 5,
   "id": "46cd3106",
   "metadata": {},
   "outputs": [
    {
     "name": "stdout",
     "output_type": "stream",
     "text": [
      "cat: ./text_files/sample1.txt: No such file or directory\n"
     ]
    }
   ],
   "source": [
    "!cat ./text_files/sample1.txt"
   ]
  },
  {
   "cell_type": "code",
   "execution_count": 6,
   "id": "de45e875",
   "metadata": {},
   "outputs": [
    {
     "name": "stdout",
     "output_type": "stream",
     "text": [
      "File cannnot be opened\n"
     ]
    }
   ],
   "source": [
    "# Code with an exception\n",
    "\n",
    "try:\n",
    "    f = open(\"./text_files/sample2.txt\", \"w\")\n",
    "except:\n",
    "    print(\"File cannnot be opened\")\n"
   ]
  },
  {
   "cell_type": "code",
   "execution_count": 7,
   "id": "d6d0a6c8",
   "metadata": {},
   "outputs": [
    {
     "ename": "NameError",
     "evalue": "name 'f' is not defined",
     "output_type": "error",
     "traceback": [
      "\u001b[0;31m---------------------------------------------------------------------------\u001b[0m",
      "\u001b[0;31mNameError\u001b[0m                                 Traceback (most recent call last)",
      "Cell \u001b[0;32mIn[7], line 1\u001b[0m\n\u001b[0;32m----> 1\u001b[0m \u001b[43mf\u001b[49m\u001b[38;5;241m.\u001b[39mwrite(\u001b[38;5;124m\"\u001b[39m\u001b[38;5;124mHello, this is my second text file.\u001b[39m\u001b[38;5;130;01m\\n\u001b[39;00m\u001b[38;5;124m\"\u001b[39m)\n\u001b[1;32m      3\u001b[0m f\u001b[38;5;241m.\u001b[39mclose()\n",
      "\u001b[0;31mNameError\u001b[0m: name 'f' is not defined"
     ]
    }
   ],
   "source": [
    "f.write(\"Hello, this is my second text file.\\n\")\n",
    "\n",
    "f.close()"
   ]
  },
  {
   "cell_type": "markdown",
   "id": "bb18a2e6",
   "metadata": {},
   "source": [
    "We can easily loop over the lines in a file:"
   ]
  },
  {
   "cell_type": "code",
   "execution_count": 8,
   "id": "3481cda2",
   "metadata": {},
   "outputs": [],
   "source": [
    "try: \n",
    "    f = open(\"./text_files/sample1.txt\", \"r\")\n",
    "    \n",
    "except:\n",
    "    print(\"error: cannot open the file\")"
   ]
  },
  {
   "cell_type": "code",
   "execution_count": 9,
   "id": "c7d12f87",
   "metadata": {},
   "outputs": [
    {
     "name": "stdout",
     "output_type": "stream",
     "text": [
      "['Hello,', 'this', 'is', 'my', 'first', 'text', 'file.']\n"
     ]
    }
   ],
   "source": [
    "for line in f:\n",
    "    \n",
    "    print(line.split())\n",
    "    \n",
    "f.close()"
   ]
  },
  {
   "cell_type": "markdown",
   "id": "43a7048c",
   "metadata": {},
   "source": [
    "## CSV Files\n",
    "\n",
    "Comma-separated values (CSV) are an easy way to exchange data -- you can generate these from a spreadsheet program.\n",
    "\n",
    "In the example below, we are assuming that the first line of the spreadsheet/csv file gives the headings that identify the columns.  \n",
    "\n",
    "Note that there is an amazing amount of variation in terms of what can be in a CSV file and what the format is -- the csv module does a good job sorting this all out for you."
   ]
  },
  {
   "cell_type": "markdown",
   "id": "d652aa72-328c-4d20-b991-5b217c377f64",
   "metadata": {},
   "source": [
    "## Read CSV file:"
   ]
  },
  {
   "cell_type": "code",
   "execution_count": 43,
   "id": "16350eba",
   "metadata": {},
   "outputs": [],
   "source": [
    "# Import CSV library\n",
    "\n",
    "import csv\n"
   ]
  },
  {
   "cell_type": "code",
   "execution_count": 44,
   "id": "cb005c74",
   "metadata": {},
   "outputs": [
    {
     "name": "stdout",
     "output_type": "stream",
     "text": [
      "item,quantity,unit price,total\n",
      "apples,2,0.33,0.66\n",
      "bananas,5,0.1,0.5\n",
      "milk,1,2.5,2.5\n",
      "soda,3,1,3\n",
      "rolls,12,0.33,3.96\n",
      "eggs,1,2.5,2.5\n"
     ]
    }
   ],
   "source": [
    "!cat ./shopping.csv"
   ]
  },
  {
   "cell_type": "code",
   "execution_count": 45,
   "id": "5c692acf",
   "metadata": {},
   "outputs": [],
   "source": [
    "class Item(object):\n",
    "    \n",
    "    # Init function\n",
    "    def __init__(self):\n",
    "        self.name = \"\"\n",
    "        self.quantity = 0\n",
    "        self.unitprice = 0.0\n",
    "        self.total = 0.0"
   ]
  },
  {
   "cell_type": "code",
   "execution_count": 46,
   "id": "3fe61bce",
   "metadata": {},
   "outputs": [],
   "source": [
    "# We want to define reader\n",
    "\n",
    "reader = csv.reader(open(\"shopping.csv\", \"r\"))\n",
    "\n",
    "headings = None\n",
    "\n",
    "shopping_list = []\n",
    "\n",
    "for row in reader:\n",
    "    if headings == None:\n",
    "        # First row\n",
    "        headings = row\n",
    "    else:\n",
    "        my_item = Item()\n",
    "        my_item.name = row[headings.index(\"item\")]\n",
    "        my_item.quantity = row[headings.index(\"quantity\")]\n",
    "        my_item.unitprice = row[headings.index(\"unit price\")]\n",
    "        my_item.total = row[headings.index(\"total\")]\n",
    "        \n",
    "        shopping_list.append(my_item)\n"
   ]
  },
  {
   "cell_type": "code",
   "execution_count": 39,
   "id": "283b2d61",
   "metadata": {},
   "outputs": [
    {
     "name": "stdout",
     "output_type": "stream",
     "text": [
      "[<__main__.Item object at 0x1248a8190>, <__main__.Item object at 0x124a2acd0>, <__main__.Item object at 0x124a6f0d0>, <__main__.Item object at 0x124a6f310>, <__main__.Item object at 0x124a6fee0>, <__main__.Item object at 0x12295fd30>]\n"
     ]
    }
   ],
   "source": [
    "print(shopping_list)"
   ]
  },
  {
   "cell_type": "code",
   "execution_count": 40,
   "id": "cfc5d4bb",
   "metadata": {},
   "outputs": [
    {
     "name": "stdout",
     "output_type": "stream",
     "text": [
      "item: apples, quantity: 2, unit price: 0.33, total: 0.66\n",
      "item: bananas, quantity: 5, unit price: 0.1, total: 0.5\n",
      "item: milk, quantity: 1, unit price: 2.5, total: 2.5\n",
      "item: soda, quantity: 3, unit price: 1, total: 3\n",
      "item: rolls, quantity: 12, unit price: 0.33, total: 3.96\n",
      "item: eggs, quantity: 1, unit price: 2.5, total: 2.5\n"
     ]
    }
   ],
   "source": [
    "# Loop over the list and print the items\n",
    "\n",
    "for i in shopping_list:\n",
    "    print (\"item: {}, quantity: {}, unit price: {}, total: {}\".format(i.name, i.quantity, i.unitprice, i.total))\n"
   ]
  },
  {
   "cell_type": "code",
   "execution_count": 42,
   "id": "c79b5137-547a-4afa-bbcf-2b85c3c74bf6",
   "metadata": {},
   "outputs": [
    {
     "name": "stdout",
     "output_type": "stream",
     "text": [
      "CSV file 'selected_items.csv' created successfully!\n"
     ]
    }
   ],
   "source": [
    "# Select two items\n",
    "selected_items = shopping_list[:2]  # First two items\n",
    "\n",
    "# Write to a new CSV file\n",
    "csv_filename = \"selected_items.csv\"\n",
    "\n",
    "with open(csv_filename, mode=\"w\", newline=\"\") as file:\n",
    "    writer = csv.writer(file)\n",
    "    writer.writerow([\"item\", \"quantity\", \"unit price\", \"total\"])  # Writing headers\n",
    "\n",
    "    for item in selected_items:\n",
    "        writer.writerow([item.name, item.quantity, item.unitprice, item.total])\n",
    "\n",
    "print(f\"CSV file '{csv_filename}' created successfully!\")"
   ]
  },
  {
   "cell_type": "markdown",
   "id": "6ba54f64-e38f-4572-890e-85998d205b02",
   "metadata": {},
   "source": [
    "# I/O class:"
   ]
  },
  {
   "cell_type": "code",
   "execution_count": 47,
   "id": "aa10e6ab-e118-410a-80ca-32b5bba29ba9",
   "metadata": {},
   "outputs": [],
   "source": [
    "class Item:\n",
    "    def __init__(self, name=\"\", quantity=0, unitprice=0.0, total=0.0):\n",
    "        self.name = name\n",
    "        self.quantity = quantity\n",
    "        self.unitprice = unitprice\n",
    "        self.total = total\n",
    "\n",
    "    def read_from_csv(filename):\n",
    "        \"\"\"Reads a CSV file and returns a list of Item objects.\"\"\"\n",
    "        shopping_list = []\n",
    "        with open(filename, mode=\"r\", newline=\"\") as file:\n",
    "            reader = csv.reader(file)\n",
    "            headings = next(reader)  # Read headers\n",
    "            \n",
    "            for row in reader:\n",
    "                item = Item(\n",
    "                    name=row[headings.index(\"item\")],\n",
    "                    quantity=int(row[headings.index(\"quantity\")]),\n",
    "                    unitprice=float(row[headings.index(\"unit price\")]),\n",
    "                    total=float(row[headings.index(\"total\")]),\n",
    "                )\n",
    "                shopping_list.append(item)\n",
    "        \n",
    "        return shopping_list\n",
    "\n",
    "    def write_to_csv(filename, items):\n",
    "        \"\"\"Writes a list of Item objects to a CSV file.\"\"\"\n",
    "        with open(filename, mode=\"w\", newline=\"\") as file:\n",
    "            writer = csv.writer(file)\n",
    "            writer.writerow([\"item\", \"quantity\", \"unit price\", \"total\"])  # Write headers\n",
    "\n",
    "            for item in items:\n",
    "                writer.writerow([item.name, item.quantity, item.unitprice, item.total])\n",
    "\n",
    "        print(f\"CSV file '{filename}' created successfully!\")\n"
   ]
  },
  {
   "cell_type": "code",
   "execution_count": 48,
   "id": "d4e3a08a-6316-4ea1-b8ad-d16d87a6d824",
   "metadata": {},
   "outputs": [
    {
     "name": "stdout",
     "output_type": "stream",
     "text": [
      "CSV file 'selected_items2.csv' created successfully!\n"
     ]
    }
   ],
   "source": [
    "# Usage example:\n",
    "shopping_list = Item.read_from_csv(\"shopping.csv\")  # Read all items\n",
    "Item.write_to_csv(\"selected_items2.csv\", shopping_list[:2])  # Write first 2 items"
   ]
  },
  {
   "cell_type": "markdown",
   "id": "1e1ce5a0-d6dc-470f-a13f-6bfb554cf5be",
   "metadata": {},
   "source": [
    "# Web scrapping\n",
    "\n",
    "Now we are going to download a file from a URL."
   ]
  },
  {
   "cell_type": "code",
   "execution_count": 20,
   "id": "0f8cbe9d-f3f4-478d-b57e-991b1595302e",
   "metadata": {},
   "outputs": [],
   "source": [
    "import requests"
   ]
  },
  {
   "cell_type": "code",
   "execution_count": 21,
   "id": "ff755e53-276d-4145-bd5f-80a2e518d5c4",
   "metadata": {},
   "outputs": [],
   "source": [
    "class Get_Github_File:\n",
    "\n",
    "    def __init__(self, url, output_file):\n",
    "        \"\"\"\n",
    "        Init function\n",
    "        \"\"\"\n",
    "        self.url = url\n",
    "        self.output_file = output_file\n",
    "\n",
    "    def get_file(self):\n",
    "        \"\"\"\n",
    "        Download file\n",
    "        \"\"\"\n",
    "\n",
    "        response = requests.get(self.url)\n",
    "\n",
    "        with open(self.output_file, \"w\", encoding=\"utf-8\") as file:\n",
    "            file.write(response.text)\n",
    "\n",
    "        print(f\"File successfully downloade as '{self.output_file}'\")\n"
   ]
  },
  {
   "cell_type": "code",
   "execution_count": 26,
   "id": "55d2242e-dbe4-41cb-a897-062aa9efb352",
   "metadata": {},
   "outputs": [
    {
     "name": "stdout",
     "output_type": "stream",
     "text": [
      "File successfully downloade as 'downloaded_file.txt'\n"
     ]
    }
   ],
   "source": [
    "# Example usage:\n",
    "\n",
    "url = \"https://raw.githubusercontent.com/wbandabarragan/physics-teaching-data/main/1D-data/104444.9-264831_gass_spectrum.txt\"  \n",
    "\n",
    "out_file = \"downloaded_file.txt\"\n",
    "\n",
    "d_file = Get_Github_File(url, out_file)\n",
    "d_file.get_file()\n"
   ]
  },
  {
   "cell_type": "markdown",
   "id": "d49518f3",
   "metadata": {},
   "source": [
    "# Configuration (ini) Files\n",
    "\n",
    "INI or Config files are a common way of specifying options to a program.  They can take the form (from the `ConfigParser` page):\n",
    "\n",
    "```\n",
    "[My Section]\n",
    "foodir: %(dir)s/whatever\n",
    "dir=frob\n",
    "long: this value continues\n",
    "   in the next line\n",
    "```\n",
    "\n",
    "Here we look at how to read in options and store them in a dictionary of the form `dict[\"sec.option\"] = value`\n",
    "\n",
    "We'll use a sample .ini file from a regression test suite (`tests.ini`)."
   ]
  },
  {
   "cell_type": "code",
   "execution_count": 19,
   "id": "a4ac66ae",
   "metadata": {},
   "outputs": [],
   "source": [
    "import configparser"
   ]
  },
  {
   "cell_type": "code",
   "execution_count": 21,
   "id": "3979e48e",
   "metadata": {},
   "outputs": [],
   "source": [
    "# Create an empty dictionary to store the tests.ini file information\n",
    "options = {}\n",
    "\n",
    "# Call the par\n",
    "cp = configparser.ConfigParser()\n",
    "cp.optionxform = str    # this makes options case-sensitive\n",
    "cp.read(\"./python-scripts/tests.ini\")\n",
    "\n",
    "# We place the information into options\n",
    "for sec in cp.sections():\n",
    "    for opt in cp.options(sec):\n",
    "        key = str(sec) + \".\" + str(opt)\n",
    "        value = cp.get(sec,opt)\n",
    "        options[key] = value\n"
   ]
  },
  {
   "cell_type": "code",
   "execution_count": 22,
   "id": "b8c3f295",
   "metadata": {},
   "outputs": [
    {
     "name": "stdout",
     "output_type": "stream",
     "text": [
      "main.boxLibDir                  : /home/regtester/RegTesting/BoxLib/\n",
      "main.sourceDir                  : /home/regtester/RegTesting/VARDEN/\n",
      "main.testTopDir                 : /home/regtester/RegTesting/rt-VARDEN/\n",
      "main.webTopDir                  : /home/regtester/RegTesting/rt-VARDEN/web\n",
      "main.compareToolDir             : /home/regtester/RegTesting/AmrPostprocessing/F_Src\n",
      "main.MAKE                       : make\n",
      "main.sourceTree                 : F_Src\n",
      "main.numMakeJobs                : 8\n",
      "main.COMP                       : g++\n",
      "main.FCOMP                      : gfortran\n",
      "main.suiteName                  : VARDEN\n",
      "main.reportActiveTestsOnly      : 1\n",
      "main.goUpLink                   : 1\n",
      "main.MPIcommand                 : /usr/local/bin/mpiexec -n @nprocs@ @command@\n",
      "main.MPIhost                    : \n",
      "bubble-2d.buildDir              : varden/test\n",
      "bubble-2d.inputFile             : inputs_2d-regt\n",
      "bubble-2d.dim                   : 2\n",
      "bubble-2d.restartTest           : 0\n",
      "bubble-2d.useMPI                : 1\n",
      "bubble-2d.numprocs              : 2\n",
      "bubble-2d.useOMP                : 0\n",
      "bubble-2d.numthreads            : 2\n",
      "bubble-2d.compileTest           : 0\n",
      "bubble-2d.doVis                 : 0\n"
     ]
    }
   ],
   "source": [
    "for i, j in options.items():\n",
    "    print(\"{:32s}: {}\".format(i, j))"
   ]
  },
  {
   "cell_type": "code",
   "execution_count": null,
   "id": "9503d1ea",
   "metadata": {},
   "outputs": [],
   "source": []
  }
 ],
 "metadata": {
  "kernelspec": {
   "display_name": "Python 3 (ipykernel)",
   "language": "python",
   "name": "python3"
  },
  "language_info": {
   "codemirror_mode": {
    "name": "ipython",
    "version": 3
   },
   "file_extension": ".py",
   "mimetype": "text/x-python",
   "name": "python",
   "nbconvert_exporter": "python",
   "pygments_lexer": "ipython3",
   "version": "3.9.18"
  }
 },
 "nbformat": 4,
 "nbformat_minor": 5
}
