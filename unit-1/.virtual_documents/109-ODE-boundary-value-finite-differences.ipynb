








import numpy as np
import matplotlib.pyplot as plt


# Define function f(x)
f_x = lambda x, s: -5*x**2 + 80*x + 500 # this is y(x)

# Spacing
h_1 = 0.01

# Initial/boundary conditions
x_00 = 0.
x_20 = 20.

f_00 = 500.
f_20 = 100.

# x_axis
x_axis = np.arange(x_00, x_20 + h_1, h_1)


# DEFINE n
n = 100

# Define h

h = (x_20 - x_00)/n

# Get the matrix A
A = np.zeros((n+1, n+1))

print(A)


A[0, 0] = 1
A[n, n] = 1

print(A)


for i in range(1, n):

    A[i, i-1] = 1
    A[i, i]   = -2
    A[i, i+1] = 1    

print(A)


# Create b vector

b = np.zeros(n+1)
print(b)


b[0]  = 500
b[-1] = 100

print(b)


b[1:-1] = -10*h**2

print(b)


# Solve system of n+1 eqs.

f = np.linalg.solve(A, b)  # A @ b

print(f)


# PLotting

x = np.linspace(0, 20, n+1)

plt.figure(figsize=(5,4))
plt.plot(x, f)

plt.xlabel('x')
plt.ylabel('f')
plt.show()



# Plotting

plt.figure(figsize = (5,4))

plt.plot(x_axis, f_x(x_axis, f_00), "g", label = "Exact solution")
plt.plot(x, f, "r", label = "Fin. Diff. solution")

plt.xlabel('x')
plt.ylabel('f(x)')

#plt.xlim(0,2.0)
#plt.ylim(0,1.1)

plt.legend()
plt.show()















