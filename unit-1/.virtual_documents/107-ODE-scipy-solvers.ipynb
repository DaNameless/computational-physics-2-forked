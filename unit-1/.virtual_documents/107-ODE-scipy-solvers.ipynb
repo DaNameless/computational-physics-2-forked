








# Importing libraries
import numpy as np
import matplotlib.pyplot as plt

import sympy as sp
from sympy import cos


# Define symbols

s = sp.symbols("s", cls = sp.Function)
t = sp.symbols("t")


# Define ODE

diffeq = sp.Eq(s(t).diff(t) - cos(t), 0)

display(diffeq)


# Solve the ODE:

result = sp.dsolve(diffeq, s(t), ics = {s(0):0})

display(result)





# Solution:
sln_t = lambda t: np.sin(t)

# Define step size:
h = 0.1

# t_axis:
t_axis = np.arange(0., np.pi, h)


plt.figure(figsize = (4, 3))

plt.plot(t_axis, sln_t(t_axis), label = "analytical sln.")

plt.xlabel('t')
plt.ylabel('S(t)')

plt.legend()

plt.show()





from scipy.integrate import solve_ivp


# Define slope, RHS of the ODE:

f_ode = lambda t, s: np.cos(t)

# Numerical sln using sympy

sln_num = solve_ivp(f_ode, [0, np.pi], [0], method='RK45',\
                    t_eval = t_axis)


# Times from the ODE integrator:
print(sln_num.t)

print(sln_num.y[0])


print(sln_num.t.shape)

print(sln_num.y[0].shape)


plt.figure(figsize = (4, 3))

plt.plot(t_axis, sln_t(t_axis), label = "analytical sln.", linestyle = "-")
plt.plot(sln_num.t, sln_num.y[0], label = "scipy sln.", linestyle = ":")

plt.xlabel('t')
plt.ylabel('S(t)')

plt.legend()

plt.show()





plt.figure(figsize = (4, 3))

plt.plot(t_axis, np.log10(abs(sln_num.y[0] - sln_t(t_axis))),\
         label = "error", linestyle = "-")

plt.xlabel('t')
plt.ylabel('S(t)')

plt.legend()

plt.show()





sln_num2 = solve_ivp(f_ode, [0, np.pi], [0],\
          method= "DOP853", t_eval=t_axis, rtol = 1e-8, atol = 1e-8)



plt.figure(figsize = (4, 3))

plt.plot(t_axis, sln_t(t_axis), label = "analytical sln.", linestyle = "-")
plt.plot(sln_num2.t, sln_num2.y[0], label = "scipy sln. 2", linestyle = ":")

plt.xlabel('t')
plt.ylabel('S(t)')

plt.legend()

plt.show()





plt.figure(figsize = (4, 3))

plt.plot(t_axis, np.log10(abs(sln_num2.y[0] - sln_t(t_axis))),\
         label = "error", linestyle = "-")

plt.xlabel('t')
plt.ylabel('S(t)')

plt.legend()

plt.show()


plt.figure(figsize = (4, 3))

plt.plot(t_axis,  np.log10(abs(sln_num.y[0] - sln_t(t_axis))),\
         label = "error O(h^2)", linestyle = "-")
plt.plot(t_axis,  np.log10(abs(sln_num2.y[0] - sln_t(t_axis))),\
         label = "error O(h^8)", linestyle = ":")

plt.xlabel('t')
plt.ylabel('S(t)')

plt.legend()

plt.show()








# Define the slope function:

func = lambda t, s: np.dot(np.array([[0, t**2], [-t, 0]]), s)


# Define the step size
h = 0.01

# Define t axis:
t_axis = np.arange(0., 10. + h, h)

# Compute solution:
sln = solve_ivp(func, [0., 10.], [1., 1.],\
                method= "RK45", t_eval = t_axis) 


print(sln)


# The x(t) solution:

print(sln.y[0])

# The y(t) solution:

print(sln.y[1])


plt.figure(figsize = (5, 4))

#plt.plot(sln.y.T[:, 0], sln.y.T[:, 1])

plt.plot(sln.y[0], sln.y[1])

plt.xlabel('x')
plt.ylabel('y')

plt.show()


plt.figure(figsize = (12, 8))

#plt.plot(sln.t, sln.y.T[:, 0])

plt.plot(sln.t, sln.y[0])

plt.xlabel('t')
plt.ylabel('x')

plt.show()


plt.figure(figsize = (12, 8))

plt.plot(sln.t, sln.y[1])

plt.xlabel('t')
plt.ylabel('y')

plt.show()


plt.figure(figsize = (4, 3))

#plt.plot(sln.t, sln.y.T[:, 0])
#plt.plot(sln.t, sln.y.T[:, 1])

plt.plot(sln.t, sln.y[0], label = r"$x$")
plt.plot(sln.t, sln.y[1], label = r"$y$")

plt.legend()

plt.xlabel('t')
plt.ylabel('y')

plt.show()



