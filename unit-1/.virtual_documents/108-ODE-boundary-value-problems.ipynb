











import sympy as sp
import numpy as np
import matplotlib.pyplot as plt


# Define symbols

f = sp.symbols("f", cls = sp.Function)
x = sp.symbols("x")



# Define ODE

diffeq = sp.Eq(f(x).diff(x,2) + 10, 0)

display(diffeq)


# Solve the ODE:

result = sp.dsolve(diffeq, f(x), ics = {f(0):500, f(20):100}) #Using ics you can specify that these are the Boundary Conditions

display(result)


# Define function f(x)
#f_x = lambda x, s: -5*x**2 + 80*x + 500 # this is y(x)
# or
f_x = sp.lambdify(x,result.rhs)

# Spacing
h_1 = 0.1

# Initial/boundary conditions
x_00 = 0.
x_20 = 20.

f_00 = 500.
f_20 = 100.

# x_axis
x_axis = np.arange(x_00, x_20 + h_1, h_1)


# Plotting

plt.figure(figsize = (4,3))

plt.plot(x_axis, f_x(x_axis), "g", label = "Exact solution")

plt.plot(x_00, f_00, "r", marker = "o", label = "Initial position")
plt.plot(x_20, f_20, "r", marker = "o", label = "Final position")

plt.xlabel('x')
plt.ylabel('f(x)')

#plt.xlim(0,2.0)
#plt.ylim(0,1.1)

plt.legend()
plt.show()








# Slope function

func = lambda x,s: (np.dot(np.array([[0, 1], [0, -10/s[1]]]), s)).flatten()


from scipy.integrate import solve_ivp


# Guess 1 for f'(0):

v_00 = 0.1


s0 = np.array([[f_00], [v_00]])


# Find the solution using the shooting method

sol = solve_ivp(func, [x_00, x_20], s0.flatten(),\
                method='RK45', t_eval = x_axis)


#print(sol.t)


#print(sol.y[1])


# Plotting

plt.figure(figsize = (4,3))

plt.plot(x_axis, f_x(x_axis), "g", label = "Exact solution")
plt.plot(sol.t, sol.y[0], "b", linestyle = '--', label ="1st guess shooting method")

plt.plot(x_00, f_00, "r", marker = "o", label = "Initial position")
plt.plot(x_20, f_20, "r", marker = "o", label = "Final position")

plt.xlabel('x')
plt.ylabel('f(x)')

#plt.xlim(0,2.0)
#plt.ylim(0,1.1)

plt.legend()
plt.show()


# Guess 2 for f'(0):

v_00 = 200

# Find the solution using the shooting method

sol_2 = solve_ivp(func, [x_00, x_20], [f_00, v_00], method='RK45', t_eval = x_axis)


# Plotting

plt.figure(figsize = (5,4))

plt.plot(x_axis, f_x(x_axis), "g", label = "Exact solution")
plt.plot(sol.t, sol.y[0], "b", linestyle = '--', label ="1st guess shooting method")
plt.plot(sol_2.t, sol_2.y[0], "m", linestyle = ':', label ="2nd guess shooting method")

plt.plot(x_00, f_00, "r", marker = "o", label = "Initial position")
plt.plot(x_20, f_20, "r", marker = "o", label = "Final position")

plt.xlabel('x')
plt.ylabel('f(x)')

#plt.xlim(0,2.0)
#plt.ylim(0,1.1)

plt.legend()
plt.show()





import scipy.optimize as opt


# Objective Function

def obj_function(v_guess):
    """
    """
    
    # Solution with this guess
    sol = solve_ivp(func, [x_00, x_20], np.asarray([f_00, v_guess], dtype = object),\
                    method='RK45', t_eval = x_axis)
    
    # Extract last solution
    last_f = sol.y[0][-1]
    
    return last_f - f_20
    


# Carry out optimisation

new_v00 = opt.fsolve(obj_function, v_00)

print(new_v00)


# Solution with the optimal initial velocity -> new_v00

sol_opt = solve_ivp(func, [x_00, x_20], np.asarray([f_00, new_v00],dtype = object),\
                    method='RK45', t_eval = x_axis)

# REMEMBER TO USE ASARRAY otherwise it won't work


# Plotting

plt.figure(figsize = (5,4))

plt.plot(x_axis, f_x(x_axis), "g", label = "Exact solution")

plt.plot(sol.t, sol.y[0], "b", linestyle = '--', label ="1st guess shooting method")
plt.plot(sol_2.t, sol_2.y[0], "m", linestyle = ':', label ="2nd guess shooting method")

plt.plot(sol_opt.t, sol_opt.y[0], "y", linestyle = '--', label ="Optimal guess shooting method")


plt.plot(x_00, f_00, "r", marker = "o", label = "Initial position")
plt.plot(x_20, f_20, "r", marker = "o", label = "Final position")
plt.xlabel('x')
plt.ylabel('f(x)')

#plt.xlim(0,2.0)
#plt.ylim(0,1.1)

plt.legend()
plt.show()



