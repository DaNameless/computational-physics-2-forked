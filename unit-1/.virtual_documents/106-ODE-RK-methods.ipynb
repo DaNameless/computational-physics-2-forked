











import numpy as np
import matplotlib.pyplot as plt

import sympy as sp
from sympy import sin


# Part (a)
# Define symbols

y = sp.symbols("y", cls = sp.Function)
t = sp.symbols("t")


# Define ODE

diffeq = sp.Eq(y(t).diff(t) - 3*t**2 - sin(t), 0)

display(diffeq)


# Solve the ODE:

result = sp.dsolve(diffeq, y(t), ics = {y(0):2})

display(result)





# Define function f(t)

b = 3

y_t = lambda t: t**3 - np.cos(t) + 3 # this is y(t)

# Spacing
h_1 = 0.1
h_2 = 0.01

# t_axis

t_1 = np.arange(0, b + h_1, h_1)
t_2 = np.arange(0, b + h_2, h_2)

# Initial conditions
y0 = 2.


# Plotting

plt.figure(figsize = (4,3))

plt.plot(t_1, y_t(t_1), "g", label = "Exact solution")

plt.xlabel('t')
plt.ylabel('f(t)')

#plt.xlim(-2.0,2.0)
#plt.ylim(-20,20)

plt.legend()
plt.show()





# Define right limit
b = 3.

# Define function y(t)
y_t = lambda t: t**3 - np.cos(t) + 3 # this is y(t)

# Spacing
h_1 = 0.1
h_2 = 0.01

# t_axis

t_1 = np.arange(0, b + h_1, h_1)
t_2 = np.arange(0, b + h_2, h_2)

# Initial conditions
y0 = 2.





#Define the slope
def f_ode(t, y):
    """
    Function to comput the RHS of the slope.
    """
    
    return 3*t**2 + np.sin(t)





def RK_2(t_axis, h_step):
    
    """
    RK2 function
    Inputs:--
    Outputs:--
    """
    
    
    # define the y_sln vectors
    y_sln = np.zeros(len(t_axis)) # associated with h

    # add initial conditions
    y_sln[0] = y0

    # loop to fill up y_sln
    for j in range(0, len(t_axis) - 1):
        
        # Slope 1 -> k1
        slope_1 = f_ode(t_axis[j], y_sln[j])
        
        # Slope 2 -> k2
        slope_2 = f_ode(t_axis[j] + h_step,\
                        y_sln[j] + h_step*slope_1)
        
        # Average slopes
        y_sln[j + 1] = y_sln[j] + h_step*(slope_1 + slope_2)/2.
        
    return y_sln



# Plotting

plt.figure(figsize = (13,10))

plt.plot(t_1, y_t(t_1), "g", label = "Exact solution")
plt.plot(t_1, RK_2(t_1, h_1), "r", linestyle =':', label = "RK 2, h=0.10")
plt.plot(t_2, RK_2(t_2, h_2), "b", linestyle ='-.', label = "RK 2, h=0.01")

plt.xlabel('t')
plt.ylabel('y(t)')

#plt.xlim(-2.0,2.0)
#plt.ylim(-20,20)

plt.legend()
plt.show()





# Plotting

plt.figure(figsize = (4,3))

plt.plot(t_1, RK_2(t_1, h_1) - y_t(t_1), "g", label = "Error h=0.1")
plt.plot(t_2, RK_2(t_2, h_2) - y_t(t_2), "b", label = "Error h=0.01")

plt.xlabel('t')
plt.ylabel(r'$\epsilon(f)$')

#plt.xlim(-2.0,2.0)
#plt.ylim(-20,20)

plt.legend()
plt.show()


# Plotting

plt.figure(figsize = (4,3))

plt.plot(t_1[1:], np.log10(RK_2(t_1, h_1)[1:] - y_t(t_1)[1:]), "g", label = "Error h=0.1")
plt.plot(t_2[1:], np.log10(RK_2(t_2, h_2)[1:] - y_t(t_2)[1:]), "b", label = "Error h=0.01")

plt.xlabel('t')
plt.ylabel(r'$\log(\epsilon_(f))$')

#plt.xlim(-2.0,2.0)
#plt.ylim(-20,20)

plt.legend()
plt.show()





def RK_4(t_axis, h_step):
    """
    
    """
    # define the y_sln vectors
    y_sln = np.zeros(len(t_axis)) # associated with h

    # add initial conditions
    y_sln[0] = y0

    # loop to fill up y_sln
    for j in range(0, len(t_axis) - 1):
        
        slope_1 = f_ode(t_axis[j], y_sln[j])
        
        slope_2 = f_ode(t_axis[j] + 0.5*h_step, y_sln[j] + 0.5*h_step*slope_1)
        
        slope_3 = f_ode(t_axis[j] + 0.5*h_step, y_sln[j] + 0.5*h_step*slope_2)
        
        slope_4 = f_ode(t_axis[j] + h_step, y_sln[j] + h_step*slope_3)
        
        y_sln[j + 1] = y_sln[j] +\
               h_step*(slope_1 + 2*slope_2 + 2*slope_3 + slope_4)/6
        
    return y_sln


# Plotting

plt.figure(figsize = (4,3))

plt.plot(t_1, y_t(t_1), "g", label = "Exact solution")
plt.plot(t_1, RK_2(t_1, h_1), "r", linestyle =':', label = "RK 2, h=0.10")
plt.plot(t_1, RK_4(t_1, h_1), "b", linestyle ='-.', label = "RK 4, h=0.10")

plt.xlabel('t')
plt.ylabel('y(t)')

#plt.xlim(-2.0,2.0)
#plt.ylim(-20,20)

plt.legend()
plt.show()





# Plotting

plt.figure(figsize = (4,3))

plt.plot(t_1, RK_2(t_1, h_1) - y_t(t_1), "g", label = "Error RK2 h=0.1")
plt.plot(t_1, RK_4(t_1, h_1) - y_t(t_1), "b", label = "Error RK4 h=0.1")

plt.xlabel('t')
plt.ylabel('e_(f)')

#plt.xlim(-2.0,2.0)
#plt.ylim(-20,20)

plt.legend()
plt.show()


# Plotting

plt.figure(figsize = (4,3))

plt.plot(t_1, np.log10(RK_2(t_1, h_1) - y_t(t_1)), "g", label = "Error RK2 h=0.1")
plt.plot(t_1, np.log10(RK_4(t_1, h_1) - y_t(t_1)), "b", label = "Error RK4 h=0.1")
plt.plot(t_2, np.log10(RK_4(t_2, h_2) - y_t(t_2)), "m", label = "Error RK4 h=0.01")

plt.xlabel('t')
plt.ylabel('e_(f)')

#plt.xlim(-2.0,2.0)
#plt.ylim(-20,20)

plt.legend()
plt.show()


n = 4
RK2_err = np.zeros(n) 
RK4_err = np.zeros(n)
for i in range(n):
    h_i = 10**(-i)
    RK2_err[i] = np.max(RK_2(t_1, h_i) - y_t(t_1))   
    RK4_err[i]= np.max(RK_4(t_1, h_i) - y_t(t_1))


# Plotting

plt.figure(figsize = (4,3))

plt.plot(np.log10(np.array([10**(-i) for i in range(n)])), np.log10(RK2_err), "g", label = "Error RK2")
plt.plot(np.log10(np.array([10**(-i) for i in range(n)])), np.log10(RK4_err), "b", label = "Error RK4")

plt.xlabel('t')
plt.ylabel('e_(f)')

#plt.xlim(-2.0,2.0)
#plt.ylim(-20,20)

plt.legend()
plt.show()



