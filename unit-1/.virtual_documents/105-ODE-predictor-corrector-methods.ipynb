





# Import libraries

import numpy as np
import matplotlib.pyplot as plt


# Define the limit for the t axis
b = 3.

# Define function y(t) -> We found this sln with sympy in lecture 103
y_t = lambda t: t**3 - np.cos(t) + 3. # this is y(t)

# Spacing
h_1 = 0.1
h_2 = 1.e-2

# t_axis

t_1 = np.arange(0, b + h_1, h_1)
t_2 = np.arange(0, b + h_2, h_2)

# Initial conditions
y0 = 2.


# Plotting

plt.figure(figsize = (5,4))

plt.plot(t_1, y_t(t_1), "g", label = "Exact solution")

plt.xlabel('t')
plt.ylabel('y(t)')

#plt.xlim(-2.0,2.0)
#plt.ylim(-20,20)

plt.legend()
plt.show()








# Define the slope

def f_ode(t, y):
    """
    Function that returns the slope for the ODE.
    """
    
    return 3*t**2 + np.sin(t)


# Function to calculate midpoint slope

def midpoint(t_axis, h_step):
    
    # Define the y_sln vector
    y_sln = np.zeros(len(t_axis))
    
    # ICS:
    y_sln[0] = y0
    
    # Loop to integrate
    for j in range(0, len(t_axis) - 1):
        
        # Predictor step
        predictor_1  = y_sln[j] + h_step*f_ode(t_axis[j], y_sln[j])/2
        
        # Corrector step
        y_sln[j + 1] = y_sln[j] + h_step*f_ode(t_axis[j]\
                                + h_step/2,  predictor_1)
    
    return y_sln


# Plotting

plt.figure(figsize = (5,4))

plt.plot(t_1, y_t(t_1), "g", linestyle = '-', label = "Exact solution")
plt.plot(t_1, midpoint(t_1, h_1), "r", linestyle = ':', label = "Midpoint method, h=0.1")
plt.plot(t_2, midpoint(t_2, h_2), "black", linestyle = '-.', label = "Midpoint method, h =0.01")

plt.xlabel('t')
plt.ylabel('y(t)')

#plt.xlim(-2.0,2.0)
#plt.ylim(-20,20)

plt.legend()
plt.show()





# Plotting

plt.figure(figsize = (5,4))

plt.plot(t_1, np.log10(np.abs(midpoint(t_1, h_1) - y_t(t_1))), "b", linestyle = '-', label = "Error h=0.1")
plt.plot(t_2, np.log10(np.abs(midpoint(t_2, h_2) - y_t(t_2))), "black", linestyle = '-.', label = "Error h=0.01")

plt.xlabel('t')
plt.ylabel(r'$\log_{10}(\epsilon(t))$')

#plt.xlim(-2.0,2.0)
#plt.ylim(-20,20)

plt.legend()
plt.show()



