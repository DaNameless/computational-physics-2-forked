











# Import libraries
import numpy as np
import matplotlib.pyplot as plt





# Define piece-wise function

def potential_v(x, a):
    """
    Function to evaluate the potential V(x).
    Inputs: x -> vector, a -> width
    Output: V(x)
    """
    if(0 <= x <= a):
        return 0
    else:
        return 10000 # Proxy for infinity 


# Fix the potential width a = 2
a = 2 # ~nm



# Define axes
x = np.arange(-3., 5., 0.01)


# This produces an error: potential_v(x, a)

# Empy list, as the function potential_v is a piecewise function, so we need to use this approach.
y = []

for i in range(len(x)):
    y.append(potential_v(x[i], a))
    
y = np.array(y)


#print(x.shape)
#print(y.shape)


# For plotting
plt.figure(figsize = (3,2))

plt.plot(x, y, c='magenta', ls='-')

plt.xlabel(r"$x$")

plt.ylabel(r"$V(x)$")

plt.ylim(-10,400)

plt.grid()
plt.show()

















import sympy as sp

# To see the outputs in latex format
from sympy.interactive import printing
printing.init_printing(use_latex = True)





# We define symbols for variables and functions:

# For variable x:
x, k = sp.symbols('x, k')

# For function f(x):
y = sp.Function('y') # psi


# We define the ODE:

diffeq = sp.Eq(y(x).diff(x,2) + k**2*y(x), 0)

display(diffeq)


# Solution to the ODE:

result = sp.dsolve(diffeq, y(x))

display(result)











import scipy.optimize as opt


x = np.arange(0, 20*np.pi, 0.01)

func = lambda x: np.sin(x)

y = func(x)


%matplotlib inline

plt.plot(x, y)
plt.grid()


x_0 = np.arange(0, 20*np.pi, np.pi)


roots_func = opt.fsolve(func, x_0)

print(roots_func/np.pi)











from sympy import sin, pi


# Define symbols
x, a, n = sp.symbols('x a n')

# Integrate
y = sp.integrate((sin(n*pi*x/a))**2, (x, 0, a))

display(sp.simplify(y))











import scipy.constants as cte


print(cte.hbar)


# Potential with
a=2


def psi_function(a, n, x, t):
    """
    Function to compute the wave function psi(x,t)
    Inputs: a-> potential width
            n-> energy state n=1,2,3,4,5,...
            x-> vector
            t-> time value
    """
    E_n = n**2
    
    psi_xt = np.sqrt(2/a)*np.sin(n*np.pi*x/a)\
            *np.cos(E_n*t)

    return psi_xt


# Inside the potential

x = np.arange(0, 2.01, 0.01)


y1 = psi_function(a, 1, x, 0) # n=1

y2 = psi_function(a, 2, x, 0) # n=2

y3 = psi_function(a, 3, x, 0) # n=3

y4 = psi_function(a, 4, x, 0) # n=4


fig, ax = plt.subplots(2,2, figsize=(4,3))

ax[0][0].plot(x, y1,  label = r'$\psi_1$')
ax[0][1].plot(x, y2,  label = r'$\psi_2$')
ax[1][0].plot(x, y3,  label = r'$\psi_3$')
ax[1][1].plot(x, y4,  label = r'$\psi_4$')

ax[0][0].legend()
ax[0][1].legend()
ax[1][0].legend()
ax[1][1].legend()

ax[0][0].set_xlim(0,2)
ax[0][1].set_xlim(0,2)
ax[1][0].set_xlim(0,2)
ax[1][1].set_xlim(0,2)

ax[0][0].set_ylim(-1.5,1.5)
ax[0][1].set_ylim(-1.5,1.5)
ax[1][0].set_ylim(-1.5,1.5)
ax[1][1].set_ylim(-1.5,1.5)

plt.show()





for i in np.arange(0,10,0.1):
    
    y1 = psi_function(a, 1, x, i) # n=1
    
    y2 = psi_function(a, 2, x, i) # n=2

    y3 = psi_function(a, 3, x, i) # n=3

    y4 = psi_function(a, 4, x, i) # n=4
    
    fig, ax = plt.subplots(2,2, figsize=(10,6))

    ax[0][0].plot(x, y1,  label = r'$\psi_1$')
    ax[0][1].plot(x, y2,  label = r'$\psi_2$')
    ax[1][0].plot(x, y3,  label = r'$\psi_3$')
    ax[1][1].plot(x, y4,  label = r'$\psi_4$')

    ax[0][0].legend()
    ax[0][1].legend()
    ax[1][0].legend()
    ax[1][1].legend()

    ax[0][0].set_xlim(0,2)
    ax[0][1].set_xlim(0,2)
    ax[1][0].set_xlim(0,2)
    ax[1][1].set_xlim(0,2)

    ax[0][0].set_ylim(-1.5,1.5)
    ax[0][1].set_ylim(-1.5,1.5)
    ax[1][0].set_ylim(-1.5,1.5)
    ax[1][1].set_ylim(-1.5,1.5)

    #plt.show()
    plt.savefig("./Figures/wave_functions{:03f}.png".format(i))
    plt.close()





import glob
from PIL import Image


images_in = "./Figures/wave_functions**.png"

gif_image_out = "./Figures/wave_functions2.gif"

imgs = (Image.open(f) for f in sorted(glob.glob(images_in)))

img = next(imgs)

img.save(fp = gif_image_out, format='GIF', append_images=imgs, save_all=True, duration=100, loop=0)


from IPython import display



display.Image(open('./Figures/wave_functions.gif','rb').read())



display.Image(open('./Figures/wave_functions2.gif','rb').read())
