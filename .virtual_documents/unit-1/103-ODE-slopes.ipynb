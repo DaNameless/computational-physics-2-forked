





#Part a
import numpy as np
import matplotlib.pyplot as plt

import sympy as sp
from sympy import sin





# Define symbols

y = sp.symbols("y", cls = sp.Function)
t = sp.symbols("t")


# Define ODE

diffeq = sp.Eq(y(t).diff(t)- 3*t**2 - sin(t), 0)

display(diffeq)


# Solve the ODE:

result = sp.dsolve(diffeq, y(t), ics = {y(0):2})

display(result)





# Define limit
b = 3.

# 1st way: Defining sympy function:

y_sol = result.rhs
y_t = sp.lambdify(t, y_sol, 'numpy')

# Spacing
h_1 = 0.1
h_2 = 0.01

# t_axis

t_1 = np.arange(0, b + h_1, h_1)
t_2 = np.arange(0, b + h_2, h_2)

# Initial conditions
y0 = 2.


# Plotting

plt.figure(figsize = (4,3))

plt.plot(t_1, y_t(t_1), "g", label = "Exact solution (1st way)")
plt.xlabel('t')
plt.ylabel('y(t)')

#plt.xlim(-2.0,2.0)
#plt.ylim(-20,20)

plt.legend()
plt.show()





#Define Slope

def f_ode(t, y):
    """
    Funtion to define and output the ODE slope:
    """
    return 3*t**2 + np.sin(t)


# Part b

# Functions to carry out Euler integration

def explicit_euler(t_axis, h_step):
    # define the solution vector
    y_sln = np.zeros(len(t_axis)) # associated with h_1

    # Assign Initial Condition
    y_sln[0] = y0

    # ODE integration
    for j in range(0, len(t_axis) - 1):
        y_sln[j + 1] = y_sln[j] + h_step*f_ode(t_axis[j], y_sln[j])

    return y_sln


def implicit_euler(t_axis, h_step):
    
    # define the y_sln vectors
    y_sln = np.zeros(len(t_axis)) # associated with h

    # add initial conditions
    y_sln[0] = y0

    # loop to fill up y_sln
    for j in range(0, len(t_axis) - 1):
        #print(y_sln[k + 1])
        y_sln[j + 1] = y_sln[j] + h_step*f_ode(t_axis[j + 1], y_sln[j + 1]) # here we do not need a predictor line as F do not depend on y!
        #print(y_sln)
        
    return y_sln


def trapezoidal_euler(t_axis, h_step):
    
    # define the y_sln vectors
    y_sln = np.zeros(len(t_axis)) # associated with h

    # add initial conditions
    y_sln[0] = y0

    # loop to fill up y_sln
    for j in range(0, len(t_axis) - 1):
        y_sln[j + 1] = y_sln[j] + h_step*(f_ode(t_axis[j], y_sln[j])\
                                + f_ode(t_axis[j + 1], y_sln[j + 1]))/2
        
    return y_sln





plt.figure(figsize = (5,4))

plt.plot(t_1, y_t(t_1), "g", label = "Exact solution")
plt.plot(t_1, explicit_euler(t_1, h_1), "r", linestyle =':', label = "Explicit Euler solution, h=0.10")
plt.plot(t_1, implicit_euler(t_1, h_1), "b", linestyle =':', label = "Implicit Euler solution, h=0.10")
plt.plot(t_1, trapezoidal_euler(t_1, h_1), "magenta", linestyle ='-.', label = "Trapezoidal Euler solution, h=0.10")

plt.xlabel('t')
plt.ylabel('y(t)')

plt.legend()

plt.show()





    plt.figure(figsize = (5,4))
    
    #plt.plot(t_1, y_t(t_1), "g", label = "Exact solution")
    plt.plot(t_1, abs(explicit_euler(t_1, h_1) - y_t(t_1)), "r", linestyle =':', label = "Explicit Euler solution, h=0.10")
    plt.plot(t_1, abs(implicit_euler(t_1, h_1) - y_t(t_1)), "b", linestyle =':', label = "Implicit Euler solution, h=0.10")
    plt.plot(t_1, abs(trapezoidal_euler(t_1, h_1) - y_t(t_1)), "magenta", linestyle ='-.', label = "Trapezoidal Euler solution, h=0.10")
    
    plt.xlabel('t')
    plt.ylabel(r'$\epsilon_y(t)$')
    
    plt.legend()
    
    plt.show()


plt.figure(figsize = (5,4))

#plt.plot(t_1, y_t(t_1), "g", label = "Exact solution")
plt.plot(t_1, np.log10(abs(explicit_euler(t_1, h_1) - y_t(t_1))), "r", linestyle =':', label = "Explicit Euler solution, h=0.10")
plt.plot(t_1, np.log10(abs(implicit_euler(t_1, h_1) - y_t(t_1))), "b", linestyle =':', label = "Implicit Euler solution, h=0.10")
plt.plot(t_1, np.log10(abs(trapezoidal_euler(t_1, h_1) - y_t(t_1))), "magenta", linestyle ='-.', label = "Trapezoidal Euler solution, h=0.10")

plt.xlabel('t')
plt.ylabel(r'$\epsilon_y(t)$')

plt.legend()

plt.show()





plt.figure(figsize = (5,4))

plt.plot(t_2, y_t(t_2), "g", label = "Exact solution")
plt.plot(t_2, explicit_euler(t_2, h_2), "r", linestyle =':', label = "Explicit Euler solution, h=0.01")
plt.plot(t_2, implicit_euler(t_2, h_2), "b", linestyle =':', label = "Implicit Euler solution, h=0.01")
plt.plot(t_2, trapezoidal_euler(t_2, h_2), "magenta", linestyle ='-.', label = "Trapezoidal Euler solution, h=0.01")

plt.xlabel('t')
plt.ylabel('y(t)')

plt.legend()

plt.show()





plt.figure(figsize = (5,4))

#plt.plot(t_1, y_t(t_1), "g", label = "Exact solution")
plt.plot(t_2, abs(explicit_euler(t_2, h_2) - y_t(t_2)), "r", linestyle ='-', label = "Explicit Euler solution, h=0.01")
plt.plot(t_2, abs(implicit_euler(t_2, h_2) - y_t(t_2)), "b", linestyle =':', label = "Implicit Euler solution, h=0.01")
plt.plot(t_2, abs(trapezoidal_euler(t_2, h_2) - y_t(t_2)), "magenta", linestyle ='-.', label = "Trapezoidal Euler solution, h=0.01")
 

plt.xlabel('t')
plt.ylabel(r'$\epsilon_y(t)$')

plt.legend()

plt.show()








# Part (a)
# Define symbols

y = sp.symbols("y", cls = sp.Function)

t = sp.symbols("t")


# Define ODE

diffeq = sp.Eq(y(t).diff(t) + y(t)/2 - t/2, 0)

display(diffeq)


# Solve the ODE:

result = sp.dsolve(diffeq, y(t), ics = {y(0):1})

display(result)





# Define function f(t)

y_t = lambda t, s: t - 2 + 3*np.exp(-t/2) # this is y(t)

# Spacing
h_1 = 0.1
h_2 = 0.01

# t_axis

t_1 = np.arange(0, 3 + h_1, h_1)
t_2 = np.arange(0, 3 + h_2, h_2)

# Initial conditions
y0 = 1.


# 2nd way: Evaluating sympy result:

yval = []

for i in t_1:
    yval.append(result.subs(t,i).args[1])
    
yval = np.array(yval)


# Plotting

plt.figure(figsize = (5,4))

plt.plot(t_1, y_t(t_1, y0), "g", label = "Exact solution")
plt.plot(t_1, yval, "black", linestyle = "-.", label = "Exact solution")

plt.xlabel('t')
plt.ylabel('y(t)')

plt.legend()
plt.show()





# Part b 

# Define the slope

def f_ode(t, y):
    """
    Function that defines and returns the slope of the ODE.
    """
    return (t - y)/2





def explicit_euler(t_axis, h_step):
    # define the solution vector
    y_sln = np.zeros(len(t_axis)) # associated with h_1

    # Assign Initial Condition
    y_sln[0] = y0

    # ODE integration
    for j in range(0, len(t_axis) - 1):
        y_sln[j + 1] = y_sln[j] + h_step*f_ode(t_axis[j], y_sln[j])

    return y_sln


plt.figure(figsize = (5,4))

plt.plot(t_1, y_t(t_1, y0), "g", label = "Exact solution")
plt.plot(t_1, explicit_euler(t_1, h_1), "r", linestyle = ":", label = "Explicit Euler solution")


plt.xlabel('t')
plt.ylabel('f(t)')

plt.legend()
plt.show()







def implicit_euler(t_axis, h_step):
    
    # define the y_sln vectors
    y_sln = np.zeros(len(t_axis)) # associated with h

    # add initial conditions
    y_sln[0] = y0

    # loop to fill up y_sln
    for j in range(0, len(t_axis) - 1):
        y_sln[j + 1] = y_sln[j] + h_step*f_ode(t_axis[j], y_sln[j]) #This line is a predictor statement, as we need y_sln[j+1] or it will be a zero!
        y_sln[j + 1] = y_sln[j] + h_step*\
                       f_ode(t_axis[j + 1], y_sln[j + 1])
        #print(y_sln)
        
    return y_sln


plt.figure(figsize = (5,4))

plt.plot(t_1, y_t(t_1, y0), "g", label = "Exact solution")
plt.plot(t_1, explicit_euler(t_1, h_1), "r", linestyle = ":", label = "Explicit Euler solution")
plt.plot(t_1, implicit_euler(t_1, h_1), "b", linestyle = "--", label = "Implicit Euler solution")

plt.xlabel('t')
plt.ylabel('f(t)')

plt.legend()
plt.show()



def trapezoidal_euler(t_axis, h_step):
    
    # define the y_sln vectors
    y_sln = np.zeros(len(t_axis)) # associated with h

    # add initial conditions
    y_sln[0] = y0

    # loop to fill up y_sln
    for j in range(0, len(t_axis) - 1):
        y_sln[j + 1] = y_sln[j] + h_step*f_ode(t_axis[j], y_sln[j])
        y_sln[j + 1] = y_sln[j] + h_step*(f_ode(t_axis[j], y_sln[j])\
                                + f_ode(t_axis[j + 1], y_sln[j + 1]))/2
        
    return y_sln


plt.figure(figsize = (8,6))

plt.plot(t_1, y_t(t_1, y0), "g", label = "Exact solution")
plt.plot(t_1, explicit_euler(t_1, h_1), "r", linestyle =':', label = "Explicit Euler solution, h=0.1")
plt.plot(t_1, implicit_euler(t_1, h_1), "magenta", linestyle ='-', label = "Implicit Euler solution, h=0.1")
plt.plot(t_1, trapezoidal_euler(t_1, h_1), "b", linestyle ='-.', label = "Trapezoidal Euler solution, h=0.1")

plt.xlabel('t')
plt.ylabel('y(t)')

plt.legend()
plt.show()





plt.figure(figsize = (8,6))

plt.plot(t_2, y_t(t_2, y0), "g", label = "Exact solution")
plt.plot(t_2, explicit_euler(t_2, h_2), "r", linestyle =':', label = "Explicit Euler solution, h=0.01")
plt.plot(t_2, implicit_euler(t_2, h_2), "magenta", linestyle ='-', label = "Implicit Euler solution, h=0.01")
plt.plot(t_2, trapezoidal_euler(t_2, h_2), "b", linestyle ='-.', label = "Trapezoidal Euler solution, h=0.01")

plt.xlabel('t')
plt.ylabel('y(t)')

plt.legend()
plt.show()





plt.figure(figsize = (5,4))

#plt.plot(t_1, y_t(t_1), "g", label = "Exact solution")
plt.plot(t_1, abs(explicit_euler(t_1, h_1) - y_t(t_1, y0)), "r", linestyle =':', label = "Explicit Euler solution, h=0.10")
plt.plot(t_1, abs(implicit_euler(t_1, h_1) - y_t(t_1, y0)), "b", linestyle =':', label = "Implicit Euler solution, h=0.10")
plt.plot(t_1, abs(trapezoidal_euler(t_1, h_1) - y_t(t_1, y0)), "magenta", linestyle ='-.', label = "Trapezoidal Euler solution, h=0.10")

plt.xlabel('t')
plt.ylabel(r'$\epsilon_y(t)$')

plt.legend()

plt.show()


plt.figure(figsize = (5,4))

#plt.plot(t_1, y_t(t_1), "g", label = "Exact solution")
plt.plot(t_1, np.log10(abs(explicit_euler(t_1, h_1) - y_t(t_1, y0))), "r", linestyle =':', label = "Explicit Euler solution, h=0.10")
plt.plot(t_1, np.log10(abs(implicit_euler(t_1, h_1) - y_t(t_1, y0))), "b", linestyle =':', label = "Implicit Euler solution, h=0.10")
plt.plot(t_1, np.log10(abs(trapezoidal_euler(t_1, h_1) - y_t(t_1, y0))), "magenta", linestyle ='-.', label = "Trapezoidal Euler solution, h=0.10")

plt.xlabel('t')
plt.ylabel('e(t)')

plt.legend()

plt.show()



