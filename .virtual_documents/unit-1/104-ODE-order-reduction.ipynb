














# Importing libraries
import numpy as np
from numpy.linalg import inv
import matplotlib.pyplot as plt


# define step size
h = 0.1

# define numerical grid -> time vector
t = np.arange(0., 5. + h, h)

# oscillation freq. of pendulum
w = 4. # sqrt(g/l)

# ICS, initial conditions
s0 = np.array([[1], [0]])

print(s0)





# Explicit order matrix

m_e = np.array([[1, h], [-w**2*h, 1]])

print(m_e.shape)





# Implicit Euler matrix

m_i = inv(np.array([[1, -h], [w**2*h, 1]]))





# Trapezoidal matrix

m_t = np.dot(inv(np.array([[1, -h/2], [w**2*h/2,1]])),\
             np.array([[1,h/2], [-w**2*h/2, 1]]))





# Empty arrys to fill in with solutions
s_e = np.zeros((len(t), 2))
s_i = np.zeros((len(t), 2))
s_t = np.zeros((len(t), 2))

#print(s_e.T)

# Add initial conditions
s_e[0, :] = s0.T
s_i[0, :] = s0.T
s_t[0, :] = s0.T

#print(s_e.T)

# Do integrations
for j in range(0, len(t)-1):
    s_e[j+1, :] = np.dot(m_e, s_e[j, :])
    s_i[j+1, :] = np.dot(m_i, s_i[j, :])
    s_t[j+1, :] = np.dot(m_t, s_t[j, :])






plt.figure(figsize = (5, 4))

plt.plot(t, np.cos(w*t), 'k', label='analytical solution')
plt.plot(t, s_e[:,0],'b-', label='explicit Euler')
plt.plot(t, s_i[:,0],'r:', label='implicit Euler')
plt.plot(t, s_t[:,0],'y-.', label='trapezoid Euler')

plt.legend()

plt.show()





# define step size
h = 0.01

# define numerical grid
t = np.arange(0., 5. + h, h)

# oscillation freq. of pendulum
w = 4 # sqrt(g/l)

# initial conditions
s0 = np.array([[1], [0]])

# Matrices:
# Explicit:
m_e = np.array([[1, h], [-w**2*h, 1]])

# Implicit:
m_i = inv(np.array([[1, -h], [w**2*h, 1]]))

# Trapezoid:
m_t = np.dot(inv(np.array([[1, -h/2], [w**2*h/2,1]])), np.array([[1,h/2], [-w**2*h/2, 1]]))

# Empty vectors to fill in with solutions
s_e = np.zeros((len(t), 2))
s_i = np.zeros((len(t), 2))
s_t = np.zeros((len(t), 2))

# Add initial conditions
s_e[0, :] = s0.T
s_i[0, :] = s0.T
s_t[0, :] = s0.T

# Do integrations
for j in range(0, len(t)-1):
    s_e[j+1, :] = np.dot(m_e, s_e[j, :])
    s_i[j+1, :] = np.dot(m_i, s_i[j, :])
    s_t[j+1, :] = np.dot(m_t, s_t[j, :])

# Plotting
plt.figure(figsize = (5, 4))

plt.plot(t, np.cos(w*t), 'k', label='analytical solution')
plt.plot(t, s_e[:,0],'b-', label='explicit Euler')
plt.plot(t, s_i[:,0],'r:', label='implicit Euler')
plt.plot(t, s_t[:,0],'y-.', label='trapezoid Euler')

plt.legend()

plt.show()





# define step size
h = 0.001

# define numerical grid
t = np.arange(0, 5.1, h)

# oscillation freq. of pendulum
w = 4 # sqrt(g/l)

# initial conditions
s0 = np.array([[1], [0]])

# Matrices:
# Explicit:
m_e = np.array([[1, h], [-w**2*h, 1]])

# Implicit:
m_i = inv(np.array([[1, -h], [w**2*h, 1]]))

# Trapezoid:
m_t = np.dot(inv(np.array([[1, -h/2], [w**2*h/2,1]])), np.array([[1,h/2], [-w**2*h/2, 1]]))

# Empty vectors to fill in with solutions
s_e = np.zeros((len(t), 2))
s_i = np.zeros((len(t), 2))
s_t = np.zeros((len(t), 2))

# Add initial conditions
s_e[0, :] = s0.T
s_i[0, :] = s0.T
s_t[0, :] = s0.T

# Do integrations
for j in range(0, len(t)-1):
    s_e[j+1, :] = np.dot(m_e, s_e[j, :])
    s_i[j+1, :] = np.dot(m_i, s_i[j, :])
    s_t[j+1, :] = np.dot(m_t, s_t[j, :])

# Plotting
plt.figure(figsize = (5, 4))

plt.plot(t, np.cos(w*t), 'k', label='analytical solution')
plt.plot(t, s_e[:,0],'b-', label='explicit Euler')
plt.plot(t, s_i[:,0],'r:', label='implicit Euler')
plt.plot(t, s_t[:,0],'y-.', label='trapezoid Euler')

plt.legend(loc=2)

plt.show()








# Plotting

plt.figure(figsize = (5,4))

plt.plot(t_1, np.log10(np.abs(midpoint(t_1, h_1) - y_t(t_1))), "b", linestyle = '-', label = "Error h=0.1")
plt.plot(t_2, np.log10(np.abs(midpoint(t_2, h_2) - y_t(t_2))), "black", linestyle = '-.', label = "Error h=0.01")

plt.xlabel('t')
plt.ylabel(r'$\log_{10}(\epsilon(t))$')

#plt.xlim(-2.0,2.0)
#plt.ylim(-20,20)

plt.legend()
plt.show()
