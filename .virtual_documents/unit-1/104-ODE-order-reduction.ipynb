














# Importing libraries
import numpy as np
from numpy.linalg import inv
import matplotlib.pyplot as plt


# define step size
h = 0.1

# define numerical grid -> time vector
t = np.arange(0., 5. + h, h)

# oscillation freq. of pendulum
w = 4. # sqrt(g/l)

# ICS, initial conditions
s0 = np.array([[1], [0]])

print(s0)





# Explicit order matrix

m_e = np.array([[1, h], [-w**2*h, 1]])

print(m_e.shape)





# Implicit Euler matrix

m_i = inv(np.array([[1, -h], [w**2*h, 1]]))





# Trapezoidal matrix

m_t = np.dot(inv(np.array([[1, -h/2], [w**2*h/2,1]])),\
             np.array([[1,h/2], [-w**2*h/2, 1]]))





# Empty arrys to fill in with solutions
s_e = np.zeros((len(t), 2))
s_i = np.zeros((len(t), 2))
s_t = np.zeros((len(t), 2))

#print(s_e.T)

# Add initial conditions
s_e[0, :] = s0.T
s_i[0, :] = s0.T
s_t[0, :] = s0.T

#print(s_e.T)

# Do integrations
for j in range(0, len(t)-1):
    s_e[j+1, :] = np.dot(m_e, s_e[j, :])
    s_i[j+1, :] = np.dot(m_i, s_i[j, :])
    s_t[j+1, :] = np.dot(m_t, s_t[j, :])






plt.figure(figsize = (5, 4))

plt.plot(t, np.cos(w*t), 'k', label='analytical solution')
plt.plot(t, s_e[:,0],'b-', label='explicit Euler')
plt.plot(t, s_i[:,0],'r:', label='implicit Euler')
plt.plot(t, s_t[:,0],'y-.', label='trapezoid Euler')

plt.xlabel("t")
plt.ylabel(r"$\theta (t)$")

plt.legend()

plt.show()


plt.figure(figsize = (5, 4))

plt.plot(t, -w*np.sin(w*t), 'k', label='analytical solution')
plt.plot(t, s_e[:,1],'b-', label='explicit Euler')
plt.plot(t, s_i[:,1],'r:', label='implicit Euler')
plt.plot(t, s_t[:,1],'y-.', label='trapezoid Euler')

plt.xlabel("t")
plt.ylabel(r"$\theta (t)$")

plt.legend()

plt.show()





# define step size
h = 0.01

# define numerical grid
t = np.arange(0., 5. + h, h)

# oscillation freq. of pendulum
w = 4 # sqrt(g/l)

# initial conditions
s0 = np.array([[1], [0]])

# Matrices:
# Explicit:
m_e = np.array([[1, h], [-w**2*h, 1]])

# Implicit:
m_i = inv(np.array([[1, -h], [w**2*h, 1]]))

# Trapezoid:
m_t = np.dot(inv(np.array([[1, -h/2], [w**2*h/2,1]])), np.array([[1,h/2], [-w**2*h/2, 1]]))

# Empty vectors to fill in with solutions
s_e = np.zeros((len(t), 2))
s_i = np.zeros((len(t), 2))
s_t = np.zeros((len(t), 2))

# Add initial conditions
s_e[0, :] = s0.T
s_i[0, :] = s0.T
s_t[0, :] = s0.T

# Do integrations
for j in range(0, len(t)-1):
    s_e[j+1, :] = np.dot(m_e, s_e[j, :])
    s_i[j+1, :] = np.dot(m_i, s_i[j, :])
    s_t[j+1, :] = np.dot(m_t, s_t[j, :])

# Plotting
plt.figure(figsize = (5, 4))

plt.plot(t, np.cos(w*t), 'k', label='analytical solution')
plt.plot(t, s_e[:,0],'b-', label='explicit Euler')
plt.plot(t, s_i[:,0],'r:', label='implicit Euler')
plt.plot(t, s_t[:,0],'y-.', label='trapezoid Euler')

plt.legend()

plt.show()





# define step size
h = 0.001

# define numerical grid
t = np.arange(0, 5.1, h)

# oscillation freq. of pendulum
w = 4 # sqrt(g/l)

# initial conditions
s0 = np.array([[1], [0]])

# Matrices:
# Explicit:
m_e = np.array([[1, h], [-w**2*h, 1]])

# Implicit:
m_i = inv(np.array([[1, -h], [w**2*h, 1]]))

# Trapezoid:
m_t = np.dot(inv(np.array([[1, -h/2], [w**2*h/2,1]])), np.array([[1,h/2], [-w**2*h/2, 1]]))

# Empty vectors to fill in with solutions
s_e = np.zeros((len(t), 2))
s_i = np.zeros((len(t), 2))
s_t = np.zeros((len(t), 2))

# Add initial conditions
s_e[0, :] = s0.T
s_i[0, :] = s0.T
s_t[0, :] = s0.T

# Do integrations
for j in range(0, len(t)-1):
    s_e[j+1, :] = np.dot(m_e, s_e[j, :])
    s_i[j+1, :] = np.dot(m_i, s_i[j, :])
    s_t[j+1, :] = np.dot(m_t, s_t[j, :])

# Plotting
plt.figure(figsize = (5, 4))

plt.plot(t, np.cos(w*t), 'k', label='analytical solution')
plt.plot(t, s_e[:,0],'b-', label='explicit Euler')
plt.plot(t, s_i[:,0],'r:', label='implicit Euler')
plt.plot(t, s_t[:,0],'y-.', label='trapezoid Euler')

plt.legend(loc=2)

plt.show()








# Plotting

plt.figure(figsize = (5,4))

plt.plot(t, np.log10(np.abs(np.cos(w*t) - s_e[:,0])), "b", linestyle = '-', label = "Explicit")
plt.plot(t, np.log10(np.abs(np.cos(w*t) - s_i[:,0])), "black", linestyle = '-.', label = "Implicit")
plt.plot(t, np.log10(np.abs(np.cos(w*t) - s_t[:,0])), "r", linestyle = '-.', label = "Trapezoidal")

plt.xlabel('t')
plt.ylabel(r'$\log_{10}(\epsilon(t))$')

#plt.xlim(-2.0,2.0)
#plt.ylim(-20,20)

plt.legend()
plt.show()





# define step size
h = 0.001

# define numerical grid
t = np.arange(0, 5.1, h)

# oscillation freq. of pendulum
w = 4 # sqrt(g/l)

# initial conditions
s0 = np.array([[1], [0]])


def explicit_euler_m(t, s0, m_e):
    """
    This function calculates the evolution of the State Vector using the Explicit Euler method.
    Input: t (np.array of floats) -> time data series 
            s0 (np.array of float) -> Initial State Vector
            m_e (mp.array of float) -> Transformed matrix that was previously obtained from reduction of order
    Output: s_e (np.array of float) -> Array containing the time evolution of the State Vector
    Author: R.S.S.G.
    Date created: 14/02/2025
    """
    
    # define the solution vector
    s_e = np.zeros((len(t), 2))

    # Assign Initial Condition
    s_e[0, :] = s0.T

    # Do integrations
    for j in range(0, len(t)-1):
        s_e[j+1, :] = np.dot(m_e, s_e[j, :])

    return s_e


def implicit_euler_m(t, s0, m_i):
    """
    This function calculates the evolution of the State Vector using the Explicit Euler method.
    Input: t (np.array of floats) -> time data series 
            s0 (np.array of float) -> Initial State Vector
            m_i (mp.array of float) -> Transformed matrix that was previously obtained from reduction of order
    Output: s_i (np.array of float) -> Array containing the time evolution of the State Vector
    Author: R.S.S.G.
    Date created: 14/02/2025
    """
    
    # define the solution vector
    s_i = np.zeros((len(t), 2))

    # Assign Initial Condition
    s_i[0, :] = s0.T

    # Do integrations
    for j in range(0, len(t)-1):
        s_i[j+1, :] = np.dot(m_i, s_i[j, :])
        
    return s_i


def trapezoidal_euler_m(t_axis, s0, m_t):
    """
    This function calculates the evolution of the State Vector using the Explicit Euler method.
    Input: t (np.array of floats) -> time data series 
            s0 (np.array of float) -> Initial State Vector
            m_t (mp.array of float) -> Transformed matrix that was previously obtained from reduction of order 
    Output: s_t (np.array of float) -> Array containing the time evolution of the State Vector
    Author: R.S.S.G.
    Date created: 14/02/2025
    """

    # define the solution vector
    s_t = np.zeros((len(t), 2))

    # Assign Initial Condition
    s_t[0, :] = s0.T

    # Do integrations
    for j in range(0, len(t)-1):
        s_t[j+1, :] = np.dot(m_t, s_t[j, :])
        
    return s_t


def red_ord_matrix(f, h_step, method):
    """
    This function calculates the matrix obtained from reduction of order and transforms it to be directly applied for 
    Euler Methods. Requires inv from numpy.linalg
    Input: f (np.array of floats) -> Matrix representing the system of equations at reducing the order
            h_step (float) -> step size
            method (str) -> Euler method to use
                            Options: "e" for Explicit, "i" for Implicit, "t" for Trapezoidal
    Output: m (np.array of float) -> Transformed matrix obtained from the process
    Author: R.S.S.G.
    Date created: 14/02/2025
    """
    iden = np.identity(np.shape(f)[0])
    if method == "e":
        m = iden + h_step*f
    elif method == "i":
        m = inv(iden- h_step*f)
    elif method == "t":
        m = np.dot(inv(iden - (h_step/2)*f), iden + (h_step/2)*f)

    return m


# define step size
h = 0.01

# define numerical grid
t = np.arange(0, 5.1, h)

# oscillation freq. of pendulum
w = 4 # sqrt(g/l)

# initial conditions
s0 = np.array([[1], [0]])

stest_e = explicit_euler_m(t, np.array([[1],[0]]), red_ord_matrix(np.array([[0, 1],[-w**2, 0]]),h, "e"))
# OR
stest_e = explicit_euler_m(t, s0, red_ord_matrix(np.array([[0, 1],[-w**2, 0]]),h, "e"))


stest_i = implicit_euler_m(t, s0, red_ord_matrix(np.array([[0, 1],[-w**2, 0]]),h, "i"))
stest_i = trapezoidal_euler_m(t, s0, red_ord_matrix(np.array([[0, 1],[-w**2, 0]]),h, "t"))


plt.figure(figsize = (5, 4))

plt.plot(t, np.cos(w*t), 'k', label='analytical solution')
plt.plot(t, stest_e[:,0],'b-', label='explicit Euler')
plt.plot(t, stest_i[:,0],'r:', label='implicit Euler')
plt.plot(t, stest_i[:,0],'y-.', label='trapezoid Euler')

plt.xlabel("t")
plt.ylabel(r"$\theta (t)$")

plt.legend()

plt.show()
