


import sympy as sp
import numpy as np
import matplotlib.pyplot as plt





# Define symbols

f = sp.symbols("f", cls = sp.Function)

x = sp.symbols("x")


# ODE

diffeq = sp.Eq(f(x).diff(x,2) - f(x).diff(x,1) - 3, 0)

display(diffeq)


# Solve the ODE:

result = sp.dsolve(diffeq, f(x), ics = {f(0):1.e1, f(20):1.e6})

display(result)


# Step size:
h_1 = 0.1

# Initial conditions
f_00 = 1.e1
f_20 = 1.e6

# Define axis
x_1 = np.arange(0., 20. + h_1, h_1)

# Evaluate the sympy solution usinf x_1

f_x = []

for i in x_1:
    
    f_x.append(result.subs(x, i).args[1])
    
f_x = np.array(f_x)


#f_x = lambda x, s: -3*x + 0.00206125668436825*np.exp(x) + 9.99793874331563 # this is f(x)



# Plot:

plt.figure(figsize = (4,3))

plt.plot(x_1, f_x, "g", label = "Exact solution")

plt.xlabel('t')
plt.ylabel('f(t)')

#plt.xlim(0,2.0)
#plt.ylim(0,1.1)

plt.legend()
plt.show()





from scipy.integrate import solve_ivp


# 1st order ODE:

F = lambda x, s: np.dot(np.array([[0,1],[0,1 + 3/s[1]]]), s)


# Axis:
x_span = np.arange(0, 20 + h_1, h_1) # in x_1

# Guess:
v_00 = 1.e-1

#Solution:
sol = solve_ivp(F, [0, 20], [f_00, v_00], t_eval = x_span)


# Plotting

plt.figure(figsize = (5, 4))
plt.plot(x_1, f_x, "g", label = "Exact solution")
plt.plot(sol.t, sol.y[0], "b", label = "Shooting method solution")
plt.xlabel('x')
plt.ylabel('f(x)')
plt.title(f'first guess v={v_00} m/s')

plt.legend()
plt.show()





from scipy.optimize import fsolve


def objective(v_00):
    
    sol = solve_ivp(F, [0, 20], np.asarray([f_00, v_00], dtype = object), t_eval = x_span)
    
    f = sol.y[0]
    
    return f[-1] - f_20


# Optimisation:

new_v00, = fsolve(objective, 0.1)

print(new_v00)





# New solution using new_v00

new_sol = solve_ivp(F, [0, 20], [f_00, new_v00], t_eval = x_span)



# Plotting:

# Plotting

plt.figure(figsize = (5, 4))
plt.plot(x_1, f_x, "g", label = "Exact solution")
plt.plot(new_sol.t, new_sol.y[0], "r", linestyle=":", label = "Shooting method solution")
plt.xlabel('x')
plt.ylabel('f(x)')
plt.title(f'first guess v={new_v00} m/s')

plt.legend()
plt.show()





# Define n

n = 100

h  = (20 - 0)/n

print(h)

# Get A:

A = np.zeros((n+1, n+1))

A[0, 0] = 1
A[n, n] = 1


print(A)


# Fill in the diagonals

for i in range(1, n):
    
    A[i, i-1] = 2 + h
    A[i, i] = -4
    A[i, i+1] = 2 - h
    
print(A)


# Get b
b = np.zeros(n+1)

b[0]  = f_00
b[-1] = f_20

print(b)


# In between we use th RHS of the FD ODE

b[1:-1] = 6*h**2

print(b)


# solve the linear equations

f = np.linalg.solve(A, b)

print(f)


#Plotting

t = np.linspace(0, 20, n+1)

plt.figure(figsize=(5, 4))
plt.plot(x_1, f_x, "g", label = "Exact solution")
plt.plot(t, f, "b", linestyle = ":", label = "Fin. Diff. solution" )

plt.xlabel('x')
plt.ylabel('f')

plt.legend()
plt.show()



