


import numpy as np
import matplotlib.pyplot as plt
import scipy.constants as ct


# Function for the 2D stationary state:

def psi_function_2D(l_x, l_y, n_x, n_y, x_2D, y_2D, t):
    """
    Function to compute psi(x,y,t)
    """
    E_n = (n_x**2*np.pi**2*ct.hbar**2)/(2*m*l_x**2)\
        + (n_y**2*np.pi**2*ct.hbar**2)/(2*m*l_y**2)
    
    f_xy = np.sin(n_x*np.pi*x_2D/l_x)\
          *np.sin(n_y*np.pi*y_2D/l_y)\
          *np.cos(E_n*t/ct.hbar)
    
    return f_xy


# Axes -> 1 D vectors
l_x = l_y = 2.e-10 # in m
m = ct.m_e # electron mass in SI units

# Vectors for x and y
x_axis = np.arange(-3.e-10, 5.e-10, 5.e-12)
y_axis = np.arange(-3.e-10, 5.e-10, 5.e-12)

# Mesh grid: 2D matrices with the coordinates
x_2D, y_2D = np.meshgrid(x_axis, y_axis)

print(x_2D.shape, y_2D.shape)


y1 = psi_function_2D(l_x, l_y, 1, 1, x_2D, y_2D, 2.1996467879833723e-16) # n=1

y2 = psi_function_2D(l_x, l_y, 2, 2, x_2D, y_2D, 2.1996467879833723e-16) # n=2

y3 = psi_function_2D(l_x, l_y, 3, 3, x_2D, y_2D, 2.1996467879833723e-16) # n=3

y4 = psi_function_2D(l_x, l_y, 4, 4, x_2D, y_2D, 2.1996467879833723e-16) # n=4


fig, ax = plt.subplots(2,2, figsize=(10,6))

ax[0][0].pcolor(x_2D, y_2D, y1,  label = r'$\psi_1$', clim=(-1., +1.))
ax[0][1].pcolor(x_2D, y_2D, y2,  label = r'$\psi_2$', clim=(-1., +1.))
ax[1][0].pcolor(x_2D, y_2D, y3,  label = r'$\psi_3$', clim=(-1., +1.))
ax[1][1].pcolor(x_2D, y_2D, y4,  label = r'$\psi_4$', clim=(-1., +1.))

#Z1 = plt.pcolor(x_2D, y_2D, y1)

#ax[0][0].colorbar(Z1)

ax[0][0].legend()
ax[0][1].legend()
ax[1][0].legend()
ax[1][1].legend()

ax[0][0].set_xlim(0,2.e-10)
ax[0][1].set_xlim(0,2.e-10)
ax[1][0].set_xlim(0,2.e-10)
ax[1][1].set_xlim(0,2.e-10)

ax[0][0].set_ylim(0,2.e-10)
ax[0][1].set_ylim(0,2.e-10)
ax[1][0].set_ylim(0,2.e-10)
ax[1][1].set_ylim(0,2.e-10)

plt.show()



print(np.min(y4))


for i in np.arange(0,5*4.3992935759667446e-16,4.3992935759667446e-18):
    
    y1 = psi_function_2D(l_x, l_y, 1, 1, x_2D, y_2D, i) # n=1

    y2 = psi_function_2D(l_x, l_y, 2, 2, x_2D, y_2D, i) # n=2

    y3 = psi_function_2D(l_x, l_y, 3, 3, x_2D, y_2D, i) # n=3

    y4 = psi_function_2D(l_x, l_y, 4, 4, x_2D, y_2D, i) # n=4
    
    fig, ax = plt.subplots(2,2, figsize=(10,6))

    ax[0][0].pcolor(x_2D, y_2D, y1,  label = r'$\psi_1$', clim=(-1., +1.))
    ax[0][1].pcolor(x_2D, y_2D, y2,  label = r'$\psi_2$', clim=(-1., +1.))
    ax[1][0].pcolor(x_2D, y_2D, y3,  label = r'$\psi_3$', clim=(-1., +1.))
    ax[1][1].pcolor(x_2D, y_2D, y4,  label = r'$\psi_4$', clim=(-1., +1.))

    #Z1 = plt.pcolor(x_2D, y_2D, y1)

    #ax[0][0].colorbar(Z1)

    ax[0][0].legend()
    ax[0][1].legend()
    ax[1][0].legend()
    ax[1][1].legend()

    ax[0][0].set_xlim(0,2.e-10)
    ax[0][1].set_xlim(0,2.e-10)
    ax[1][0].set_xlim(0,2.e-10)
    ax[1][1].set_xlim(0,2.e-10)

    ax[0][0].set_ylim(0,2.e-10)
    ax[0][1].set_ylim(0,2.e-10)
    ax[1][0].set_ylim(0,2.e-10)
    ax[1][1].set_ylim(0,2.e-10)
    
    j = i*1.e17

    #plt.show()
    plt.savefig("./Figures/wave2D_functions{:03.3f}.png".format(j))
    plt.close()


import glob
from PIL import Image


images_in = "./Figures/wave2D_functions**.png"

gif_image_out = "./Figures/wave2D_functions.gif"

imgs = (Image.open(f) for f in sorted(glob.glob(images_in)))

img = next(imgs)

img.save(fp = gif_image_out, format='GIF', append_images=imgs, save_all=True, duration=100, loop=0)





from IPython import display


display.Image(open('./Figures/wave2D_functions.gif','rb').read())



